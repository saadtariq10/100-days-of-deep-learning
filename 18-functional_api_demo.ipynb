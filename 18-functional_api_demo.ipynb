{
  "nbformat": 4,
  "nbformat_minor": 0,
  "metadata": {
    "colab": {
      "provenance": []
    },
    "kernelspec": {
      "name": "python3",
      "display_name": "Python 3"
    },
    "language_info": {
      "name": "python"
    }
  },
  "cells": [
    {
      "cell_type": "code",
      "execution_count": 9,
      "metadata": {
        "id": "UTwTzCiVwvLQ"
      },
      "outputs": [],
      "source": [
        "from keras.models import Model\n",
        "from keras.layers import *"
      ]
    },
    {
      "cell_type": "code",
      "source": [
        "x = Input(shape=(3,))"
      ],
      "metadata": {
        "id": "k64ncJ3RyhDB"
      },
      "execution_count": 13,
      "outputs": []
    },
    {
      "cell_type": "code",
      "source": [
        "hidden1 = Dense(128, activation='relu')(x)\n",
        "hidden2 = Dense(64, activation='relu')(hidden1)\n",
        "\n",
        "output1 = Dense(1, activation='sigmoid')(hidden2)\n",
        "output2 = Dense(1, activation='sigmoid')(hidden2)"
      ],
      "metadata": {
        "id": "xLAC7EO-zLZR"
      },
      "execution_count": 15,
      "outputs": []
    },
    {
      "cell_type": "code",
      "source": [
        "model = Model(x, [output1, output2])"
      ],
      "metadata": {
        "id": "YRHLZ7bA94Zp"
      },
      "execution_count": 21,
      "outputs": []
    },
    {
      "cell_type": "code",
      "source": [
        "model.summary()"
      ],
      "metadata": {
        "colab": {
          "base_uri": "https://localhost:8080/"
        },
        "id": "oK2adS59-665",
        "outputId": "c8a3d215-801e-4660-d896-1680e8293f67"
      },
      "execution_count": 22,
      "outputs": [
        {
          "output_type": "stream",
          "name": "stdout",
          "text": [
            "Model: \"model_1\"\n",
            "__________________________________________________________________________________________________\n",
            " Layer (type)                Output Shape                 Param #   Connected to                  \n",
            "==================================================================================================\n",
            " input_3 (InputLayer)        [(None, 3)]                  0         []                            \n",
            "                                                                                                  \n",
            " dense (Dense)               (None, 128)                  512       ['input_3[0][0]']             \n",
            "                                                                                                  \n",
            " dense_1 (Dense)             (None, 64)                   8256      ['dense[0][0]']               \n",
            "                                                                                                  \n",
            " dense_2 (Dense)             (None, 1)                    65        ['dense_1[0][0]']             \n",
            "                                                                                                  \n",
            " dense_3 (Dense)             (None, 1)                    65        ['dense_1[0][0]']             \n",
            "                                                                                                  \n",
            "==================================================================================================\n",
            "Total params: 8898 (34.76 KB)\n",
            "Trainable params: 8898 (34.76 KB)\n",
            "Non-trainable params: 0 (0.00 Byte)\n",
            "__________________________________________________________________________________________________\n"
          ]
        }
      ]
    },
    {
      "cell_type": "code",
      "source": [
        "from keras.utils import plot_model\n",
        "plot_model(model)"
      ],
      "metadata": {
        "colab": {
          "base_uri": "https://localhost:8080/",
          "height": 369
        },
        "id": "njxWUEK-97uv",
        "outputId": "09df9e3e-44cc-4d23-9f31-6499bde8ed5d"
      },
      "execution_count": 23,
      "outputs": [
        {
          "output_type": "execute_result",
          "data": {
            "image/png": "[encoded data removed]",
            "text/plain": [
              "<IPython.core.display.Image object>"
            ]
          },
          "metadata": {},
          "execution_count": 23
        }
      ]
    },
    {
      "cell_type": "code",
      "source": [],
      "metadata": {
        "id": "FZrKgopl_FW8"
      },
      "execution_count": null,
      "outputs": []
    }
  ]
}