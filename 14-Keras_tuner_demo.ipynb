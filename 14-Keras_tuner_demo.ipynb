{
  "nbformat": 4,
  "nbformat_minor": 0,
  "metadata": {
    "colab": {
      "provenance": []
    },
    "kernelspec": {
      "name": "python3",
      "display_name": "Python 3"
    },
    "language_info": {
      "name": "python"
    }
  },
  "cells": [
    {
      "cell_type": "code",
      "execution_count": 35,
      "metadata": {
        "id": "WuXjjSgairV5"
      },
      "outputs": [],
      "source": [
        "import pandas as pd\n",
        "import numpy as np\n",
        "import matplotlib.pyplot as plt"
      ]
    },
    {
      "cell_type": "code",
      "source": [
        "df = pd.read_csv('/content/sample_data/diabetes.csv')"
      ],
      "metadata": {
        "id": "RM_n2cJ2i8O7"
      },
      "execution_count": 36,
      "outputs": []
    },
    {
      "cell_type": "code",
      "source": [
        "df.head()"
      ],
      "metadata": {
        "colab": {
          "base_uri": "https://localhost:8080/",
          "height": 206
        },
        "id": "5FLTYfZujDa9",
        "outputId": "36175ca9-b864-44b3-a293-3198cd58f776"
      },
      "execution_count": 37,
      "outputs": [
        {
          "output_type": "execute_result",
          "data": {
            "text/plain": [
              "   Pregnancies  Glucose  BloodPressure  SkinThickness  Insulin   BMI  \\\n",
              "0            6      148             72             35        0  33.6   \n",
              "1            1       85             66             29        0  26.6   \n",
              "2            8      183             64              0        0  23.3   \n",
              "3            1       89             66             23       94  28.1   \n",
              "4            0      137             40             35      168  43.1   \n",
              "\n",
              "   DiabetesPedigreeFunction  Age  Outcome  \n",
              "0                     0.627   50        1  \n",
              "1                     0.351   31        0  \n",
              "2                     0.672   32        1  \n",
              "3                     0.167   21        0  \n",
              "4                     2.288   33        1  "
            ],
            "text/html": [
              "\n",
              "  <div id=\"df-9d6896e3-647a-4891-af27-593094f3c341\" class=\"colab-df-container\">\n",
              "    <div>\n",
              "<style scoped>\n",
              "    .dataframe tbody tr th:only-of-type {\n",
              "        vertical-align: middle;\n",
              "    }\n",
              "\n",
              "    .dataframe tbody tr th {\n",
              "        vertical-align: top;\n",
              "    }\n",
              "\n",
              "    .dataframe thead th {\n",
              "        text-align: right;\n",
              "    }\n",
              "</style>\n",
              "<table border=\"1\" class=\"dataframe\">\n",
              "  <thead>\n",
              "    <tr style=\"text-align: right;\">\n",
              "      <th></th>\n",
              "      <th>Pregnancies</th>\n",
              "      <th>Glucose</th>\n",
              "      <th>BloodPressure</th>\n",
              "      <th>SkinThickness</th>\n",
              "      <th>Insulin</th>\n",
              "      <th>BMI</th>\n",
              "      <th>DiabetesPedigreeFunction</th>\n",
              "      <th>Age</th>\n",
              "      <th>Outcome</th>\n",
              "    </tr>\n",
              "  </thead>\n",
              "  <tbody>\n",
              "    <tr>\n",
              "      <th>0</th>\n",
              "      <td>6</td>\n",
              "      <td>148</td>\n",
              "      <td>72</td>\n",
              "      <td>35</td>\n",
              "      <td>0</td>\n",
              "      <td>33.6</td>\n",
              "      <td>0.627</td>\n",
              "      <td>50</td>\n",
              "      <td>1</td>\n",
              "    </tr>\n",
              "    <tr>\n",
              "      <th>1</th>\n",
              "      <td>1</td>\n",
              "      <td>85</td>\n",
              "      <td>66</td>\n",
              "      <td>29</td>\n",
              "      <td>0</td>\n",
              "      <td>26.6</td>\n",
              "      <td>0.351</td>\n",
              "      <td>31</td>\n",
              "      <td>0</td>\n",
              "    </tr>\n",
              "    <tr>\n",
              "      <th>2</th>\n",
              "      <td>8</td>\n",
              "      <td>183</td>\n",
              "      <td>64</td>\n",
              "      <td>0</td>\n",
              "      <td>0</td>\n",
              "      <td>23.3</td>\n",
              "      <td>0.672</td>\n",
              "      <td>32</td>\n",
              "      <td>1</td>\n",
              "    </tr>\n",
              "    <tr>\n",
              "      <th>3</th>\n",
              "      <td>1</td>\n",
              "      <td>89</td>\n",
              "      <td>66</td>\n",
              "      <td>23</td>\n",
              "      <td>94</td>\n",
              "      <td>28.1</td>\n",
              "      <td>0.167</td>\n",
              "      <td>21</td>\n",
              "      <td>0</td>\n",
              "    </tr>\n",
              "    <tr>\n",
              "      <th>4</th>\n",
              "      <td>0</td>\n",
              "      <td>137</td>\n",
              "      <td>40</td>\n",
              "      <td>35</td>\n",
              "      <td>168</td>\n",
              "      <td>43.1</td>\n",
              "      <td>2.288</td>\n",
              "      <td>33</td>\n",
              "      <td>1</td>\n",
              "    </tr>\n",
              "  </tbody>\n",
              "</table>\n",
              "</div>\n",
              "    <div class=\"colab-df-buttons\">\n",
              "\n",
              "  <div class=\"colab-df-container\">\n",
              "    <button class=\"colab-df-convert\" onclick=\"convertToInteractive('df-9d6896e3-647a-4891-af27-593094f3c341')\"\n",
              "            title=\"Convert this dataframe to an interactive table.\"\n",
              "            style=\"display:none;\">\n",
              "\n",
              "  <svg xmlns=\"http://www.w3.org/2000/svg\" height=\"24px\" viewBox=\"0 -960 960 960\">\n",
              "    <path d=\"M120-120v-720h720v720H120Zm60-500h600v-160H180v160Zm220 220h160v-160H400v160Zm0 220h160v-160H400v160ZM180-400h160v-160H180v160Zm440 0h160v-160H620v160ZM180-180h160v-160H180v160Zm440 0h160v-160H620v160Z\"/>\n",
              "  </svg>\n",
              "    </button>\n",
              "\n",
              "  <style>\n",
              "    .colab-df-container {\n",
              "      display:flex;\n",
              "      gap: 12px;\n",
              "    }\n",
              "\n",
              "    .colab-df-convert {\n",
              "      background-color: #E8F0FE;\n",
              "      border: none;\n",
              "      border-radius: 50%;\n",
              "      cursor: pointer;\n",
              "      display: none;\n",
              "      fill: #1967D2;\n",
              "      height: 32px;\n",
              "      padding: 0 0 0 0;\n",
              "      width: 32px;\n",
              "    }\n",
              "\n",
              "    .colab-df-convert:hover {\n",
              "      background-color: #E2EBFA;\n",
              "      box-shadow: 0px 1px 2px rgba(60, 64, 67, 0.3), 0px 1px 3px 1px rgba(60, 64, 67, 0.15);\n",
              "      fill: #174EA6;\n",
              "    }\n",
              "\n",
              "    .colab-df-buttons div {\n",
              "      margin-bottom: 4px;\n",
              "    }\n",
              "\n",
              "    [theme=dark] .colab-df-convert {\n",
              "      background-color: #3B4455;\n",
              "      fill: #D2E3FC;\n",
              "    }\n",
              "\n",
              "    [theme=dark] .colab-df-convert:hover {\n",
              "      background-color: #434B5C;\n",
              "      box-shadow: 0px 1px 3px 1px rgba(0, 0, 0, 0.15);\n",
              "      filter: drop-shadow(0px 1px 2px rgba(0, 0, 0, 0.3));\n",
              "      fill: #FFFFFF;\n",
              "    }\n",
              "  </style>\n",
              "\n",
              "    <script>\n",
              "      const buttonEl =\n",
              "        document.querySelector('#df-9d6896e3-647a-4891-af27-593094f3c341 button.colab-df-convert');\n",
              "      buttonEl.style.display =\n",
              "        google.colab.kernel.accessAllowed ? 'block' : 'none';\n",
              "\n",
              "      async function convertToInteractive(key) {\n",
              "        const element = document.querySelector('#df-9d6896e3-647a-4891-af27-593094f3c341');\n",
              "        const dataTable =\n",
              "          await google.colab.kernel.invokeFunction('convertToInteractive',\n",
              "                                                    [key], {});\n",
              "        if (!dataTable) return;\n",
              "\n",
              "        const docLinkHtml = 'Like what you see? Visit the ' +\n",
              "          '<a target=\"_blank\" href=https://colab.research.google.com/notebooks/data_table.ipynb>data table notebook</a>'\n",
              "          + ' to learn more about interactive tables.';\n",
              "        element.innerHTML = '';\n",
              "        dataTable['output_type'] = 'display_data';\n",
              "        await google.colab.output.renderOutput(dataTable, element);\n",
              "        const docLink = document.createElement('div');\n",
              "        docLink.innerHTML = docLinkHtml;\n",
              "        element.appendChild(docLink);\n",
              "      }\n",
              "    </script>\n",
              "  </div>\n",
              "\n",
              "\n",
              "<div id=\"df-e215b6fb-9a5d-4c6b-ae53-d293569e7924\">\n",
              "  <button class=\"colab-df-quickchart\" onclick=\"quickchart('df-e215b6fb-9a5d-4c6b-ae53-d293569e7924')\"\n",
              "            title=\"Suggest charts\"\n",
              "            style=\"display:none;\">\n",
              "\n",
              "<svg xmlns=\"http://www.w3.org/2000/svg\" height=\"24px\"viewBox=\"0 0 24 24\"\n",
              "     width=\"24px\">\n",
              "    <g>\n",
              "        <path d=\"M19 3H5c-1.1 0-2 .9-2 2v14c0 1.1.9 2 2 2h14c1.1 0 2-.9 2-2V5c0-1.1-.9-2-2-2zM9 17H7v-7h2v7zm4 0h-2V7h2v10zm4 0h-2v-4h2v4z\"/>\n",
              "    </g>\n",
              "</svg>\n",
              "  </button>\n",
              "\n",
              "<style>\n",
              "  .colab-df-quickchart {\n",
              "      --bg-color: #E8F0FE;\n",
              "      --fill-color: #1967D2;\n",
              "      --hover-bg-color: #E2EBFA;\n",
              "      --hover-fill-color: #174EA6;\n",
              "      --disabled-fill-color: #AAA;\n",
              "      --disabled-bg-color: #DDD;\n",
              "  }\n",
              "\n",
              "  [theme=dark] .colab-df-quickchart {\n",
              "      --bg-color: #3B4455;\n",
              "      --fill-color: #D2E3FC;\n",
              "      --hover-bg-color: #434B5C;\n",
              "      --hover-fill-color: #FFFFFF;\n",
              "      --disabled-bg-color: #3B4455;\n",
              "      --disabled-fill-color: #666;\n",
              "  }\n",
              "\n",
              "  .colab-df-quickchart {\n",
              "    background-color: var(--bg-color);\n",
              "    border: none;\n",
              "    border-radius: 50%;\n",
              "    cursor: pointer;\n",
              "    display: none;\n",
              "    fill: var(--fill-color);\n",
              "    height: 32px;\n",
              "    padding: 0;\n",
              "    width: 32px;\n",
              "  }\n",
              "\n",
              "  .colab-df-quickchart:hover {\n",
              "    background-color: var(--hover-bg-color);\n",
              "    box-shadow: 0 1px 2px rgba(60, 64, 67, 0.3), 0 1px 3px 1px rgba(60, 64, 67, 0.15);\n",
              "    fill: var(--button-hover-fill-color);\n",
              "  }\n",
              "\n",
              "  .colab-df-quickchart-complete:disabled,\n",
              "  .colab-df-quickchart-complete:disabled:hover {\n",
              "    background-color: var(--disabled-bg-color);\n",
              "    fill: var(--disabled-fill-color);\n",
              "    box-shadow: none;\n",
              "  }\n",
              "\n",
              "  .colab-df-spinner {\n",
              "    border: 2px solid var(--fill-color);\n",
              "    border-color: transparent;\n",
              "    border-bottom-color: var(--fill-color);\n",
              "    animation:\n",
              "      spin 1s steps(1) infinite;\n",
              "  }\n",
              "\n",
              "  @keyframes spin {\n",
              "    0% {\n",
              "      border-color: transparent;\n",
              "      border-bottom-color: var(--fill-color);\n",
              "      border-left-color: var(--fill-color);\n",
              "    }\n",
              "    20% {\n",
              "      border-color: transparent;\n",
              "      border-left-color: var(--fill-color);\n",
              "      border-top-color: var(--fill-color);\n",
              "    }\n",
              "    30% {\n",
              "      border-color: transparent;\n",
              "      border-left-color: var(--fill-color);\n",
              "      border-top-color: var(--fill-color);\n",
              "      border-right-color: var(--fill-color);\n",
              "    }\n",
              "    40% {\n",
              "      border-color: transparent;\n",
              "      border-right-color: var(--fill-color);\n",
              "      border-top-color: var(--fill-color);\n",
              "    }\n",
              "    60% {\n",
              "      border-color: transparent;\n",
              "      border-right-color: var(--fill-color);\n",
              "    }\n",
              "    80% {\n",
              "      border-color: transparent;\n",
              "      border-right-color: var(--fill-color);\n",
              "      border-bottom-color: var(--fill-color);\n",
              "    }\n",
              "    90% {\n",
              "      border-color: transparent;\n",
              "      border-bottom-color: var(--fill-color);\n",
              "    }\n",
              "  }\n",
              "</style>\n",
              "\n",
              "  <script>\n",
              "    async function quickchart(key) {\n",
              "      const quickchartButtonEl =\n",
              "        document.querySelector('#' + key + ' button');\n",
              "      quickchartButtonEl.disabled = true;  // To prevent multiple clicks.\n",
              "      quickchartButtonEl.classList.add('colab-df-spinner');\n",
              "      try {\n",
              "        const charts = await google.colab.kernel.invokeFunction(\n",
              "            'suggestCharts', [key], {});\n",
              "      } catch (error) {\n",
              "        console.error('Error during call to suggestCharts:', error);\n",
              "      }\n",
              "      quickchartButtonEl.classList.remove('colab-df-spinner');\n",
              "      quickchartButtonEl.classList.add('colab-df-quickchart-complete');\n",
              "    }\n",
              "    (() => {\n",
              "      let quickchartButtonEl =\n",
              "        document.querySelector('#df-e215b6fb-9a5d-4c6b-ae53-d293569e7924 button');\n",
              "      quickchartButtonEl.style.display =\n",
              "        google.colab.kernel.accessAllowed ? 'block' : 'none';\n",
              "    })();\n",
              "  </script>\n",
              "</div>\n",
              "\n",
              "    </div>\n",
              "  </div>\n"
            ],
            "application/vnd.google.colaboratory.intrinsic+json": {
              "type": "dataframe",
              "variable_name": "df",
              "summary": "{\n  \"name\": \"df\",\n  \"rows\": 768,\n  \"fields\": [\n    {\n      \"column\": \"Pregnancies\",\n      \"properties\": {\n        \"dtype\": \"number\",\n        \"std\": 3,\n        \"min\": 0,\n        \"max\": 17,\n        \"num_unique_values\": 17,\n        \"samples\": [\n          6,\n          1,\n          3\n        ],\n        \"semantic_type\": \"\",\n        \"description\": \"\"\n      }\n    },\n    {\n      \"column\": \"Glucose\",\n      \"properties\": {\n        \"dtype\": \"number\",\n        \"std\": 31,\n        \"min\": 0,\n        \"max\": 199,\n        \"num_unique_values\": 136,\n        \"samples\": [\n          151,\n          101,\n          112\n        ],\n        \"semantic_type\": \"\",\n        \"description\": \"\"\n      }\n    },\n    {\n      \"column\": \"BloodPressure\",\n      \"properties\": {\n        \"dtype\": \"number\",\n        \"std\": 19,\n        \"min\": 0,\n        \"max\": 122,\n        \"num_unique_values\": 47,\n        \"samples\": [\n          86,\n          46,\n          85\n        ],\n        \"semantic_type\": \"\",\n        \"description\": \"\"\n      }\n    },\n    {\n      \"column\": \"SkinThickness\",\n      \"properties\": {\n        \"dtype\": \"number\",\n        \"std\": 15,\n        \"min\": 0,\n        \"max\": 99,\n        \"num_unique_values\": 51,\n        \"samples\": [\n          7,\n          12,\n          48\n        ],\n        \"semantic_type\": \"\",\n        \"description\": \"\"\n      }\n    },\n    {\n      \"column\": \"Insulin\",\n      \"properties\": {\n        \"dtype\": \"number\",\n        \"std\": 115,\n        \"min\": 0,\n        \"max\": 846,\n        \"num_unique_values\": 186,\n        \"samples\": [\n          52,\n          41,\n          183\n        ],\n        \"semantic_type\": \"\",\n        \"description\": \"\"\n      }\n    },\n    {\n      \"column\": \"BMI\",\n      \"properties\": {\n        \"dtype\": \"number\",\n        \"std\": 7.884160320375446,\n        \"min\": 0.0,\n        \"max\": 67.1,\n        \"num_unique_values\": 248,\n        \"samples\": [\n          19.9,\n          31.0,\n          38.1\n        ],\n        \"semantic_type\": \"\",\n        \"description\": \"\"\n      }\n    },\n    {\n      \"column\": \"DiabetesPedigreeFunction\",\n      \"properties\": {\n        \"dtype\": \"number\",\n        \"std\": 0.3313285950127749,\n        \"min\": 0.078,\n        \"max\": 2.42,\n        \"num_unique_values\": 517,\n        \"samples\": [\n          1.731,\n          0.426,\n          0.138\n        ],\n        \"semantic_type\": \"\",\n        \"description\": \"\"\n      }\n    },\n    {\n      \"column\": \"Age\",\n      \"properties\": {\n        \"dtype\": \"number\",\n        \"std\": 11,\n        \"min\": 21,\n        \"max\": 81,\n        \"num_unique_values\": 52,\n        \"samples\": [\n          60,\n          47,\n          72\n        ],\n        \"semantic_type\": \"\",\n        \"description\": \"\"\n      }\n    },\n    {\n      \"column\": \"Outcome\",\n      \"properties\": {\n        \"dtype\": \"number\",\n        \"std\": 0,\n        \"min\": 0,\n        \"max\": 1,\n        \"num_unique_values\": 2,\n        \"samples\": [\n          0,\n          1\n        ],\n        \"semantic_type\": \"\",\n        \"description\": \"\"\n      }\n    }\n  ]\n}"
            }
          },
          "metadata": {},
          "execution_count": 37
        }
      ]
    },
    {
      "cell_type": "code",
      "source": [
        "df.info()"
      ],
      "metadata": {
        "colab": {
          "base_uri": "https://localhost:8080/"
        },
        "id": "Aw9zJBV9umau",
        "outputId": "09585dd7-3e55-421c-88c4-e44e7b298d56"
      },
      "execution_count": 38,
      "outputs": [
        {
          "output_type": "stream",
          "name": "stdout",
          "text": [
            "<class 'pandas.core.frame.DataFrame'>\n",
            "RangeIndex: 768 entries, 0 to 767\n",
            "Data columns (total 9 columns):\n",
            " #   Column                    Non-Null Count  Dtype  \n",
            "---  ------                    --------------  -----  \n",
            " 0   Pregnancies               768 non-null    int64  \n",
            " 1   Glucose                   768 non-null    int64  \n",
            " 2   BloodPressure             768 non-null    int64  \n",
            " 3   SkinThickness             768 non-null    int64  \n",
            " 4   Insulin                   768 non-null    int64  \n",
            " 5   BMI                       768 non-null    float64\n",
            " 6   DiabetesPedigreeFunction  768 non-null    float64\n",
            " 7   Age                       768 non-null    int64  \n",
            " 8   Outcome                   768 non-null    int64  \n",
            "dtypes: float64(2), int64(7)\n",
            "memory usage: 54.1 KB\n"
          ]
        }
      ]
    },
    {
      "cell_type": "code",
      "source": [
        "df.corr()['Outcome']"
      ],
      "metadata": {
        "colab": {
          "base_uri": "https://localhost:8080/"
        },
        "id": "365-YYm0jGMP",
        "outputId": "c853a6b2-46c8-4aa5-899b-1bad4a2aac47"
      },
      "execution_count": 39,
      "outputs": [
        {
          "output_type": "execute_result",
          "data": {
            "text/plain": [
              "Pregnancies                 0.221898\n",
              "Glucose                     0.466581\n",
              "BloodPressure               0.065068\n",
              "SkinThickness               0.074752\n",
              "Insulin                     0.130548\n",
              "BMI                         0.292695\n",
              "DiabetesPedigreeFunction    0.173844\n",
              "Age                         0.238356\n",
              "Outcome                     1.000000\n",
              "Name: Outcome, dtype: float64"
            ]
          },
          "metadata": {},
          "execution_count": 39
        }
      ]
    },
    {
      "cell_type": "code",
      "source": [
        "# RoadMap\n",
        "# 1. Select best optimizer\n",
        "# 2. No. of nodes in a layer\n",
        "# 3. No. of layers\n",
        "# 4. All in one model"
      ],
      "metadata": {
        "id": "WfpaEpdsuqhU"
      },
      "execution_count": 40,
      "outputs": []
    },
    {
      "cell_type": "code",
      "source": [
        "X = df.iloc[:,:-1].values\n",
        "y = df.iloc[:,-1].values"
      ],
      "metadata": {
        "id": "JN5oJP6DjV2d"
      },
      "execution_count": 41,
      "outputs": []
    },
    {
      "cell_type": "code",
      "source": [
        "from sklearn.preprocessing import StandardScaler\n",
        "scaler = StandardScaler()\n",
        "X = scaler.fit_transform(X)"
      ],
      "metadata": {
        "id": "x2JoTpymjygk"
      },
      "execution_count": 42,
      "outputs": []
    },
    {
      "cell_type": "code",
      "source": [
        "from sklearn.model_selection import train_test_split\n",
        "X_train, X_test, y_train, y_test = train_test_split(X, y, test_size=0.2, random_state=1)"
      ],
      "metadata": {
        "id": "lAb1wphDkQw-"
      },
      "execution_count": 43,
      "outputs": []
    },
    {
      "cell_type": "code",
      "source": [
        "import tensorflow\n",
        "from tensorflow import keras\n",
        "from keras import Sequential\n",
        "from keras.layers import Dense"
      ],
      "metadata": {
        "id": "hhC4ri7ykakI"
      },
      "execution_count": 44,
      "outputs": []
    },
    {
      "cell_type": "code",
      "source": [
        "model = Sequential()\n",
        "model.add(Dense(32, activation='relu', input_dim=8))\n",
        "model.add(Dense(1, activation='sigmoid'))\n",
        "model.compile(optimizer='Adam', loss='binary_crossentropy', metrics=['accuracy'])"
      ],
      "metadata": {
        "id": "7qd_7_1_kq4a"
      },
      "execution_count": 45,
      "outputs": []
    },
    {
      "cell_type": "code",
      "source": [
        "history = model.fit(X_train, y_train, batch_size=32, epochs=100, validation_data=(X_test, y_test))"
      ],
      "metadata": {
        "colab": {
          "base_uri": "https://localhost:8080/"
        },
        "id": "IXDUf-W3lDfW",
        "outputId": "9d4c7b13-8b2c-473b-d427-bcef5fd1836f"
      },
      "execution_count": 46,
      "outputs": [
        {
          "output_type": "stream",
          "name": "stdout",
          "text": [
            "Epoch 1/100\n",
            "20/20 [==============================] - 1s 17ms/step - loss: 0.6495 - accuracy: 0.6694 - val_loss: 0.6247 - val_accuracy: 0.7208\n",
            "Epoch 2/100\n",
            "20/20 [==============================] - 0s 5ms/step - loss: 0.6041 - accuracy: 0.6857 - val_loss: 0.5892 - val_accuracy: 0.7208\n",
            "Epoch 3/100\n",
            "20/20 [==============================] - 0s 6ms/step - loss: 0.5718 - accuracy: 0.6987 - val_loss: 0.5625 - val_accuracy: 0.7468\n",
            "Epoch 4/100\n",
            "20/20 [==============================] - 0s 6ms/step - loss: 0.5467 - accuracy: 0.7215 - val_loss: 0.5415 - val_accuracy: 0.7662\n",
            "Epoch 5/100\n",
            "20/20 [==============================] - 0s 5ms/step - loss: 0.5281 - accuracy: 0.7296 - val_loss: 0.5241 - val_accuracy: 0.7792\n",
            "Epoch 6/100\n",
            "20/20 [==============================] - 0s 6ms/step - loss: 0.5128 - accuracy: 0.7459 - val_loss: 0.5117 - val_accuracy: 0.7857\n",
            "Epoch 7/100\n",
            "20/20 [==============================] - 0s 6ms/step - loss: 0.5016 - accuracy: 0.7557 - val_loss: 0.5008 - val_accuracy: 0.7857\n",
            "Epoch 8/100\n",
            "20/20 [==============================] - 0s 5ms/step - loss: 0.4914 - accuracy: 0.7638 - val_loss: 0.4923 - val_accuracy: 0.7987\n",
            "Epoch 9/100\n",
            "20/20 [==============================] - 0s 5ms/step - loss: 0.4834 - accuracy: 0.7736 - val_loss: 0.4850 - val_accuracy: 0.8052\n",
            "Epoch 10/100\n",
            "20/20 [==============================] - 0s 4ms/step - loss: 0.4772 - accuracy: 0.7752 - val_loss: 0.4811 - val_accuracy: 0.8052\n",
            "Epoch 11/100\n",
            "20/20 [==============================] - 0s 4ms/step - loss: 0.4720 - accuracy: 0.7736 - val_loss: 0.4771 - val_accuracy: 0.7987\n",
            "Epoch 12/100\n",
            "20/20 [==============================] - 0s 4ms/step - loss: 0.4675 - accuracy: 0.7752 - val_loss: 0.4734 - val_accuracy: 0.8052\n",
            "Epoch 13/100\n",
            "20/20 [==============================] - 0s 3ms/step - loss: 0.4638 - accuracy: 0.7769 - val_loss: 0.4720 - val_accuracy: 0.8052\n",
            "Epoch 14/100\n",
            "20/20 [==============================] - 0s 4ms/step - loss: 0.4611 - accuracy: 0.7834 - val_loss: 0.4697 - val_accuracy: 0.8052\n",
            "Epoch 15/100\n",
            "20/20 [==============================] - 0s 3ms/step - loss: 0.4582 - accuracy: 0.7866 - val_loss: 0.4691 - val_accuracy: 0.8117\n",
            "Epoch 16/100\n",
            "20/20 [==============================] - 0s 4ms/step - loss: 0.4564 - accuracy: 0.7883 - val_loss: 0.4673 - val_accuracy: 0.8052\n",
            "Epoch 17/100\n",
            "20/20 [==============================] - 0s 4ms/step - loss: 0.4540 - accuracy: 0.7834 - val_loss: 0.4656 - val_accuracy: 0.7987\n",
            "Epoch 18/100\n",
            "20/20 [==============================] - 0s 4ms/step - loss: 0.4526 - accuracy: 0.7866 - val_loss: 0.4671 - val_accuracy: 0.7987\n",
            "Epoch 19/100\n",
            "20/20 [==============================] - 0s 3ms/step - loss: 0.4508 - accuracy: 0.7866 - val_loss: 0.4664 - val_accuracy: 0.7987\n",
            "Epoch 20/100\n",
            "20/20 [==============================] - 0s 3ms/step - loss: 0.4493 - accuracy: 0.7883 - val_loss: 0.4673 - val_accuracy: 0.7987\n",
            "Epoch 21/100\n",
            "20/20 [==============================] - 0s 4ms/step - loss: 0.4480 - accuracy: 0.7866 - val_loss: 0.4653 - val_accuracy: 0.8052\n",
            "Epoch 22/100\n",
            "20/20 [==============================] - 0s 4ms/step - loss: 0.4471 - accuracy: 0.7850 - val_loss: 0.4645 - val_accuracy: 0.8052\n",
            "Epoch 23/100\n",
            "20/20 [==============================] - 0s 4ms/step - loss: 0.4458 - accuracy: 0.7834 - val_loss: 0.4640 - val_accuracy: 0.7987\n",
            "Epoch 24/100\n",
            "20/20 [==============================] - 0s 4ms/step - loss: 0.4449 - accuracy: 0.7834 - val_loss: 0.4646 - val_accuracy: 0.7987\n",
            "Epoch 25/100\n",
            "20/20 [==============================] - 0s 4ms/step - loss: 0.4440 - accuracy: 0.7801 - val_loss: 0.4648 - val_accuracy: 0.7987\n",
            "Epoch 26/100\n",
            "20/20 [==============================] - 0s 3ms/step - loss: 0.4442 - accuracy: 0.7850 - val_loss: 0.4660 - val_accuracy: 0.7987\n",
            "Epoch 27/100\n",
            "20/20 [==============================] - 0s 4ms/step - loss: 0.4427 - accuracy: 0.7834 - val_loss: 0.4662 - val_accuracy: 0.7922\n",
            "Epoch 28/100\n",
            "20/20 [==============================] - 0s 4ms/step - loss: 0.4421 - accuracy: 0.7850 - val_loss: 0.4659 - val_accuracy: 0.7922\n",
            "Epoch 29/100\n",
            "20/20 [==============================] - 0s 3ms/step - loss: 0.4411 - accuracy: 0.7899 - val_loss: 0.4664 - val_accuracy: 0.7922\n",
            "Epoch 30/100\n",
            "20/20 [==============================] - 0s 3ms/step - loss: 0.4408 - accuracy: 0.7850 - val_loss: 0.4665 - val_accuracy: 0.7922\n",
            "Epoch 31/100\n",
            "20/20 [==============================] - 0s 4ms/step - loss: 0.4404 - accuracy: 0.7899 - val_loss: 0.4663 - val_accuracy: 0.7987\n",
            "Epoch 32/100\n",
            "20/20 [==============================] - 0s 3ms/step - loss: 0.4399 - accuracy: 0.7899 - val_loss: 0.4661 - val_accuracy: 0.7987\n",
            "Epoch 33/100\n",
            "20/20 [==============================] - 0s 3ms/step - loss: 0.4388 - accuracy: 0.7899 - val_loss: 0.4668 - val_accuracy: 0.7987\n",
            "Epoch 34/100\n",
            "20/20 [==============================] - 0s 4ms/step - loss: 0.4386 - accuracy: 0.7883 - val_loss: 0.4680 - val_accuracy: 0.7987\n",
            "Epoch 35/100\n",
            "20/20 [==============================] - 0s 4ms/step - loss: 0.4376 - accuracy: 0.7866 - val_loss: 0.4672 - val_accuracy: 0.7987\n",
            "Epoch 36/100\n",
            "20/20 [==============================] - 0s 4ms/step - loss: 0.4371 - accuracy: 0.7915 - val_loss: 0.4667 - val_accuracy: 0.7987\n",
            "Epoch 37/100\n",
            "20/20 [==============================] - 0s 3ms/step - loss: 0.4371 - accuracy: 0.7883 - val_loss: 0.4659 - val_accuracy: 0.7987\n",
            "Epoch 38/100\n",
            "20/20 [==============================] - 0s 4ms/step - loss: 0.4364 - accuracy: 0.7915 - val_loss: 0.4660 - val_accuracy: 0.8052\n",
            "Epoch 39/100\n",
            "20/20 [==============================] - 0s 4ms/step - loss: 0.4357 - accuracy: 0.7899 - val_loss: 0.4664 - val_accuracy: 0.8052\n",
            "Epoch 40/100\n",
            "20/20 [==============================] - 0s 3ms/step - loss: 0.4354 - accuracy: 0.7964 - val_loss: 0.4665 - val_accuracy: 0.7987\n",
            "Epoch 41/100\n",
            "20/20 [==============================] - 0s 4ms/step - loss: 0.4353 - accuracy: 0.7932 - val_loss: 0.4652 - val_accuracy: 0.7987\n",
            "Epoch 42/100\n",
            "20/20 [==============================] - 0s 4ms/step - loss: 0.4342 - accuracy: 0.7948 - val_loss: 0.4655 - val_accuracy: 0.8052\n",
            "Epoch 43/100\n",
            "20/20 [==============================] - 0s 4ms/step - loss: 0.4342 - accuracy: 0.7915 - val_loss: 0.4652 - val_accuracy: 0.8117\n",
            "Epoch 44/100\n",
            "20/20 [==============================] - 0s 3ms/step - loss: 0.4339 - accuracy: 0.7948 - val_loss: 0.4650 - val_accuracy: 0.8117\n",
            "Epoch 45/100\n",
            "20/20 [==============================] - 0s 4ms/step - loss: 0.4332 - accuracy: 0.7932 - val_loss: 0.4653 - val_accuracy: 0.7987\n",
            "Epoch 46/100\n",
            "20/20 [==============================] - 0s 4ms/step - loss: 0.4329 - accuracy: 0.7964 - val_loss: 0.4648 - val_accuracy: 0.8182\n",
            "Epoch 47/100\n",
            "20/20 [==============================] - 0s 5ms/step - loss: 0.4322 - accuracy: 0.7980 - val_loss: 0.4650 - val_accuracy: 0.8182\n",
            "Epoch 48/100\n",
            "20/20 [==============================] - 0s 4ms/step - loss: 0.4322 - accuracy: 0.7964 - val_loss: 0.4652 - val_accuracy: 0.8182\n",
            "Epoch 49/100\n",
            "20/20 [==============================] - 0s 3ms/step - loss: 0.4317 - accuracy: 0.7964 - val_loss: 0.4657 - val_accuracy: 0.8182\n",
            "Epoch 50/100\n",
            "20/20 [==============================] - 0s 3ms/step - loss: 0.4311 - accuracy: 0.7932 - val_loss: 0.4656 - val_accuracy: 0.8247\n",
            "Epoch 51/100\n",
            "20/20 [==============================] - 0s 4ms/step - loss: 0.4306 - accuracy: 0.7964 - val_loss: 0.4660 - val_accuracy: 0.8247\n",
            "Epoch 52/100\n",
            "20/20 [==============================] - 0s 4ms/step - loss: 0.4307 - accuracy: 0.7899 - val_loss: 0.4646 - val_accuracy: 0.8247\n",
            "Epoch 53/100\n",
            "20/20 [==============================] - 0s 3ms/step - loss: 0.4300 - accuracy: 0.7964 - val_loss: 0.4669 - val_accuracy: 0.8182\n",
            "Epoch 54/100\n",
            "20/20 [==============================] - 0s 4ms/step - loss: 0.4300 - accuracy: 0.7980 - val_loss: 0.4680 - val_accuracy: 0.8247\n",
            "Epoch 55/100\n",
            "20/20 [==============================] - 0s 4ms/step - loss: 0.4285 - accuracy: 0.7948 - val_loss: 0.4666 - val_accuracy: 0.8117\n",
            "Epoch 56/100\n",
            "20/20 [==============================] - 0s 4ms/step - loss: 0.4291 - accuracy: 0.7948 - val_loss: 0.4653 - val_accuracy: 0.8117\n",
            "Epoch 57/100\n",
            "20/20 [==============================] - 0s 4ms/step - loss: 0.4284 - accuracy: 0.7948 - val_loss: 0.4668 - val_accuracy: 0.8182\n",
            "Epoch 58/100\n",
            "20/20 [==============================] - 0s 4ms/step - loss: 0.4281 - accuracy: 0.7980 - val_loss: 0.4662 - val_accuracy: 0.8117\n",
            "Epoch 59/100\n",
            "20/20 [==============================] - 0s 4ms/step - loss: 0.4274 - accuracy: 0.7964 - val_loss: 0.4672 - val_accuracy: 0.8052\n",
            "Epoch 60/100\n",
            "20/20 [==============================] - 0s 4ms/step - loss: 0.4271 - accuracy: 0.7964 - val_loss: 0.4670 - val_accuracy: 0.8052\n",
            "Epoch 61/100\n",
            "20/20 [==============================] - 0s 4ms/step - loss: 0.4278 - accuracy: 0.7948 - val_loss: 0.4663 - val_accuracy: 0.7987\n",
            "Epoch 62/100\n",
            "20/20 [==============================] - 0s 3ms/step - loss: 0.4266 - accuracy: 0.7964 - val_loss: 0.4668 - val_accuracy: 0.8117\n",
            "Epoch 63/100\n",
            "20/20 [==============================] - 0s 4ms/step - loss: 0.4258 - accuracy: 0.7997 - val_loss: 0.4667 - val_accuracy: 0.8117\n",
            "Epoch 64/100\n",
            "20/20 [==============================] - 0s 3ms/step - loss: 0.4254 - accuracy: 0.7964 - val_loss: 0.4666 - val_accuracy: 0.8052\n",
            "Epoch 65/100\n",
            "20/20 [==============================] - 0s 4ms/step - loss: 0.4250 - accuracy: 0.7948 - val_loss: 0.4660 - val_accuracy: 0.8182\n",
            "Epoch 66/100\n",
            "20/20 [==============================] - 0s 4ms/step - loss: 0.4246 - accuracy: 0.8013 - val_loss: 0.4665 - val_accuracy: 0.8247\n",
            "Epoch 67/100\n",
            "20/20 [==============================] - 0s 3ms/step - loss: 0.4250 - accuracy: 0.7948 - val_loss: 0.4677 - val_accuracy: 0.8117\n",
            "Epoch 68/100\n",
            "20/20 [==============================] - 0s 4ms/step - loss: 0.4244 - accuracy: 0.7948 - val_loss: 0.4669 - val_accuracy: 0.8247\n",
            "Epoch 69/100\n",
            "20/20 [==============================] - 0s 4ms/step - loss: 0.4237 - accuracy: 0.7980 - val_loss: 0.4664 - val_accuracy: 0.8247\n",
            "Epoch 70/100\n",
            "20/20 [==============================] - 0s 3ms/step - loss: 0.4239 - accuracy: 0.7997 - val_loss: 0.4688 - val_accuracy: 0.8182\n",
            "Epoch 71/100\n",
            "20/20 [==============================] - 0s 5ms/step - loss: 0.4234 - accuracy: 0.7964 - val_loss: 0.4691 - val_accuracy: 0.8182\n",
            "Epoch 72/100\n",
            "20/20 [==============================] - 0s 5ms/step - loss: 0.4229 - accuracy: 0.8013 - val_loss: 0.4672 - val_accuracy: 0.8052\n",
            "Epoch 73/100\n",
            "20/20 [==============================] - 0s 3ms/step - loss: 0.4222 - accuracy: 0.7964 - val_loss: 0.4676 - val_accuracy: 0.8117\n",
            "Epoch 74/100\n",
            "20/20 [==============================] - 0s 4ms/step - loss: 0.4221 - accuracy: 0.7948 - val_loss: 0.4677 - val_accuracy: 0.8182\n",
            "Epoch 75/100\n",
            "20/20 [==============================] - 0s 3ms/step - loss: 0.4216 - accuracy: 0.7997 - val_loss: 0.4688 - val_accuracy: 0.8117\n",
            "Epoch 76/100\n",
            "20/20 [==============================] - 0s 4ms/step - loss: 0.4208 - accuracy: 0.8046 - val_loss: 0.4676 - val_accuracy: 0.8117\n",
            "Epoch 77/100\n",
            "20/20 [==============================] - 0s 3ms/step - loss: 0.4209 - accuracy: 0.8029 - val_loss: 0.4680 - val_accuracy: 0.8182\n",
            "Epoch 78/100\n",
            "20/20 [==============================] - 0s 3ms/step - loss: 0.4202 - accuracy: 0.8029 - val_loss: 0.4683 - val_accuracy: 0.8117\n",
            "Epoch 79/100\n",
            "20/20 [==============================] - 0s 3ms/step - loss: 0.4199 - accuracy: 0.8029 - val_loss: 0.4690 - val_accuracy: 0.8117\n",
            "Epoch 80/100\n",
            "20/20 [==============================] - 0s 4ms/step - loss: 0.4199 - accuracy: 0.8046 - val_loss: 0.4696 - val_accuracy: 0.8117\n",
            "Epoch 81/100\n",
            "20/20 [==============================] - 0s 4ms/step - loss: 0.4198 - accuracy: 0.8013 - val_loss: 0.4713 - val_accuracy: 0.8117\n",
            "Epoch 82/100\n",
            "20/20 [==============================] - 0s 4ms/step - loss: 0.4188 - accuracy: 0.8046 - val_loss: 0.4699 - val_accuracy: 0.8117\n",
            "Epoch 83/100\n",
            "20/20 [==============================] - 0s 4ms/step - loss: 0.4188 - accuracy: 0.8046 - val_loss: 0.4691 - val_accuracy: 0.8117\n",
            "Epoch 84/100\n",
            "20/20 [==============================] - 0s 5ms/step - loss: 0.4184 - accuracy: 0.8029 - val_loss: 0.4699 - val_accuracy: 0.8117\n",
            "Epoch 85/100\n",
            "20/20 [==============================] - 0s 4ms/step - loss: 0.4176 - accuracy: 0.8062 - val_loss: 0.4691 - val_accuracy: 0.7987\n",
            "Epoch 86/100\n",
            "20/20 [==============================] - 0s 4ms/step - loss: 0.4183 - accuracy: 0.8078 - val_loss: 0.4698 - val_accuracy: 0.8182\n",
            "Epoch 87/100\n",
            "20/20 [==============================] - 0s 4ms/step - loss: 0.4165 - accuracy: 0.8078 - val_loss: 0.4685 - val_accuracy: 0.8052\n",
            "Epoch 88/100\n",
            "20/20 [==============================] - 0s 4ms/step - loss: 0.4168 - accuracy: 0.8078 - val_loss: 0.4678 - val_accuracy: 0.7987\n",
            "Epoch 89/100\n",
            "20/20 [==============================] - 0s 3ms/step - loss: 0.4163 - accuracy: 0.8062 - val_loss: 0.4681 - val_accuracy: 0.7987\n",
            "Epoch 90/100\n",
            "20/20 [==============================] - 0s 4ms/step - loss: 0.4172 - accuracy: 0.8062 - val_loss: 0.4679 - val_accuracy: 0.8052\n",
            "Epoch 91/100\n",
            "20/20 [==============================] - 0s 4ms/step - loss: 0.4170 - accuracy: 0.8078 - val_loss: 0.4673 - val_accuracy: 0.8117\n",
            "Epoch 92/100\n",
            "20/20 [==============================] - 0s 4ms/step - loss: 0.4157 - accuracy: 0.8094 - val_loss: 0.4679 - val_accuracy: 0.8052\n",
            "Epoch 93/100\n",
            "20/20 [==============================] - 0s 3ms/step - loss: 0.4151 - accuracy: 0.8046 - val_loss: 0.4673 - val_accuracy: 0.8052\n",
            "Epoch 94/100\n",
            "20/20 [==============================] - 0s 4ms/step - loss: 0.4143 - accuracy: 0.8094 - val_loss: 0.4678 - val_accuracy: 0.8117\n",
            "Epoch 95/100\n",
            "20/20 [==============================] - 0s 4ms/step - loss: 0.4140 - accuracy: 0.8111 - val_loss: 0.4654 - val_accuracy: 0.8117\n",
            "Epoch 96/100\n",
            "20/20 [==============================] - 0s 4ms/step - loss: 0.4142 - accuracy: 0.8127 - val_loss: 0.4669 - val_accuracy: 0.8052\n",
            "Epoch 97/100\n",
            "20/20 [==============================] - 0s 4ms/step - loss: 0.4141 - accuracy: 0.8111 - val_loss: 0.4690 - val_accuracy: 0.8052\n",
            "Epoch 98/100\n",
            "20/20 [==============================] - 0s 3ms/step - loss: 0.4138 - accuracy: 0.8094 - val_loss: 0.4697 - val_accuracy: 0.8052\n",
            "Epoch 99/100\n",
            "20/20 [==============================] - 0s 3ms/step - loss: 0.4128 - accuracy: 0.8111 - val_loss: 0.4704 - val_accuracy: 0.8182\n",
            "Epoch 100/100\n",
            "20/20 [==============================] - 0s 3ms/step - loss: 0.4133 - accuracy: 0.8029 - val_loss: 0.4695 - val_accuracy: 0.8182\n"
          ]
        }
      ]
    },
    {
      "cell_type": "code",
      "source": [
        "# Plot training & validation accuracy values\n",
        "plt.plot(history.history['accuracy'])\n",
        "plt.plot(history.history['val_accuracy'])\n",
        "plt.title('Model accuracy')\n",
        "plt.ylabel('Accuracy')\n",
        "plt.xlabel('Epoch')\n",
        "plt.legend(['Train', 'Test'], loc='upper left')\n",
        "plt.show()"
      ],
      "metadata": {
        "colab": {
          "base_uri": "https://localhost:8080/",
          "height": 472
        },
        "id": "MwCZN0Hul9cx",
        "outputId": "5adb4c05-9057-4450-bcfa-d48bc8181004"
      },
      "execution_count": 47,
      "outputs": [
        {
          "output_type": "display_data",
          "data": {
            "text/plain": [
              "<Figure size 640x480 with 1 Axes>"
            ],
            "image/png": "[encoded data removed]"
          },
          "metadata": {}
        }
      ]
    },
    {
      "cell_type": "code",
      "source": [
        "\n",
        "# Plot training & validation loss values\n",
        "plt.plot(history.history['loss'])\n",
        "plt.plot(history.history['val_loss'])\n",
        "plt.title('Model loss')\n",
        "plt.ylabel('Loss')\n",
        "plt.xlabel('Epoch')\n",
        "plt.legend(['Train', 'Test'], loc='upper left')\n",
        "plt.show()"
      ],
      "metadata": {
        "colab": {
          "base_uri": "https://localhost:8080/",
          "height": 472
        },
        "id": "xDeitUC-mAAC",
        "outputId": "d28c4b4b-efd6-444d-b3f3-0f995818133a"
      },
      "execution_count": 48,
      "outputs": [
        {
          "output_type": "display_data",
          "data": {
            "text/plain": [
              "<Figure size 640x480 with 1 Axes>"
            ],
            "image/png": "[encoded data removed]"
          },
          "metadata": {}
        }
      ]
    },
    {
      "cell_type": "code",
      "source": [
        "# !pip install -U keras-tuner"
      ],
      "metadata": {
        "id": "kjok8X1QmBAo"
      },
      "execution_count": 49,
      "outputs": []
    },
    {
      "cell_type": "code",
      "source": [
        "import keras_tuner as kt"
      ],
      "metadata": {
        "id": "ZVOSKo3pneLP"
      },
      "execution_count": 50,
      "outputs": []
    },
    {
      "cell_type": "code",
      "source": [
        "def build_model(hp):\n",
        "\n",
        "  model = Sequential()\n",
        "  model.add(Dense(32, activation='relu', input_dim=8))\n",
        "  model.add(Dense(1, activation='sigmoid'))\n",
        "  optimizer = hp.Choice('optimizer', values=['Adam', 'SGD','Adadelta','RMSprop'])\n",
        "  model.compile(optimizer=optimizer, loss='binary_crossentropy', metrics=['accuracy'])\n",
        "  return model"
      ],
      "metadata": {
        "id": "XwzZ5y-snpXE"
      },
      "execution_count": 51,
      "outputs": []
    },
    {
      "cell_type": "code",
      "source": [
        "tuner = kt.RandomSearch(build_model,\n",
        "                        objective='val_accuracy',\n",
        "                        max_trials=5)"
      ],
      "metadata": {
        "colab": {
          "base_uri": "https://localhost:8080/"
        },
        "id": "155N5oSrpucz",
        "outputId": "94e5f8dd-3e71-4254-a6de-cd009d12e1fa"
      },
      "execution_count": 52,
      "outputs": [
        {
          "output_type": "stream",
          "name": "stdout",
          "text": [
            "Reloading Tuner from ./untitled_project/tuner0.json\n"
          ]
        }
      ]
    },
    {
      "cell_type": "code",
      "source": [
        "tuner.search(X_train, y_train, epochs=5, validation_data=(X_test, y_test))\n",
        "tuner.results_summary()"
      ],
      "metadata": {
        "colab": {
          "base_uri": "https://localhost:8080/"
        },
        "id": "kHQbm7eXp-o2",
        "outputId": "07bddb00-e669-4890-9802-0af4b34e562e"
      },
      "execution_count": 53,
      "outputs": [
        {
          "output_type": "stream",
          "name": "stdout",
          "text": [
            "Results summary\n",
            "Results in ./untitled_project\n",
            "Showing 10 best trials\n",
            "Objective(name=\"val_accuracy\", direction=\"max\")\n",
            "\n",
            "Trial 3 summary\n",
            "Hyperparameters:\n",
            "optimizer: Adam\n",
            "Score: 0.7857142686843872\n",
            "\n",
            "Trial 2 summary\n",
            "Hyperparameters:\n",
            "optimizer: RMSprop\n",
            "Score: 0.7662337422370911\n",
            "\n",
            "Trial 0 summary\n",
            "Hyperparameters:\n",
            "optimizer: Adadelta\n",
            "Score: 0.6298701167106628\n",
            "\n",
            "Trial 1 summary\n",
            "Hyperparameters:\n",
            "optimizer: SGD\n",
            "Score: 0.6233766078948975\n"
          ]
        }
      ]
    },
    {
      "cell_type": "code",
      "source": [
        "tuner.get_best_hyperparameters()[0].values"
      ],
      "metadata": {
        "id": "gqtsvqVBubQV",
        "colab": {
          "base_uri": "https://localhost:8080/"
        },
        "outputId": "b3625448-f73b-4bb9-bfc8-0b48015db891"
      },
      "execution_count": 54,
      "outputs": [
        {
          "output_type": "execute_result",
          "data": {
            "text/plain": [
              "{'optimizer': 'Adam'}"
            ]
          },
          "metadata": {},
          "execution_count": 54
        }
      ]
    },
    {
      "cell_type": "code",
      "source": [
        "model = tuner.get_best_models(num_models=1)[0]"
      ],
      "metadata": {
        "id": "iBrMAwnevYH0"
      },
      "execution_count": 55,
      "outputs": []
    },
    {
      "cell_type": "code",
      "source": [
        "model.summary()"
      ],
      "metadata": {
        "colab": {
          "base_uri": "https://localhost:8080/"
        },
        "id": "rCrRMpFDv68D",
        "outputId": "46c34238-5672-48b1-a38f-50547c983b9a"
      },
      "execution_count": 56,
      "outputs": [
        {
          "output_type": "stream",
          "name": "stdout",
          "text": [
            "Model: \"sequential\"\n",
            "_________________________________________________________________\n",
            " Layer (type)                Output Shape              Param #   \n",
            "=================================================================\n",
            " dense (Dense)               (None, 32)                288       \n",
            "                                                                 \n",
            " dense_1 (Dense)             (None, 1)                 33        \n",
            "                                                                 \n",
            "=================================================================\n",
            "Total params: 321 (1.25 KB)\n",
            "Trainable params: 321 (1.25 KB)\n",
            "Non-trainable params: 0 (0.00 Byte)\n",
            "_________________________________________________________________\n"
          ]
        }
      ]
    },
    {
      "cell_type": "code",
      "source": [
        "model.fit(X_train, y_train,batch_size=32, epochs=100, validation_data=(X_test, y_test))"
      ],
      "metadata": {
        "colab": {
          "base_uri": "https://localhost:8080/"
        },
        "id": "jB1XlIsCwD-d",
        "outputId": "f70eafcd-e849-4d3c-b425-057f4790adc0"
      },
      "execution_count": 57,
      "outputs": [
        {
          "output_type": "stream",
          "name": "stdout",
          "text": [
            "Epoch 1/100\n",
            "20/20 [==============================] - 1s 12ms/step - loss: 0.5270 - accuracy: 0.7345 - val_loss: 0.4970 - val_accuracy: 0.7662\n",
            "Epoch 2/100\n",
            "20/20 [==============================] - 0s 4ms/step - loss: 0.5083 - accuracy: 0.7459 - val_loss: 0.4845 - val_accuracy: 0.7727\n",
            "Epoch 3/100\n",
            "20/20 [==============================] - 0s 3ms/step - loss: 0.4954 - accuracy: 0.7557 - val_loss: 0.4748 - val_accuracy: 0.7792\n",
            "Epoch 4/100\n",
            "20/20 [==============================] - 0s 4ms/step - loss: 0.4862 - accuracy: 0.7655 - val_loss: 0.4703 - val_accuracy: 0.7922\n",
            "Epoch 5/100\n",
            "20/20 [==============================] - 0s 4ms/step - loss: 0.4794 - accuracy: 0.7687 - val_loss: 0.4674 - val_accuracy: 0.7922\n",
            "Epoch 6/100\n",
            "20/20 [==============================] - 0s 4ms/step - loss: 0.4735 - accuracy: 0.7671 - val_loss: 0.4640 - val_accuracy: 0.7922\n",
            "Epoch 7/100\n",
            "20/20 [==============================] - 0s 4ms/step - loss: 0.4691 - accuracy: 0.7687 - val_loss: 0.4629 - val_accuracy: 0.7922\n",
            "Epoch 8/100\n",
            "20/20 [==============================] - 0s 4ms/step - loss: 0.4653 - accuracy: 0.7655 - val_loss: 0.4603 - val_accuracy: 0.7922\n",
            "Epoch 9/100\n",
            "20/20 [==============================] - 0s 4ms/step - loss: 0.4624 - accuracy: 0.7671 - val_loss: 0.4605 - val_accuracy: 0.7922\n",
            "Epoch 10/100\n",
            "20/20 [==============================] - 0s 4ms/step - loss: 0.4601 - accuracy: 0.7720 - val_loss: 0.4587 - val_accuracy: 0.7922\n",
            "Epoch 11/100\n",
            "20/20 [==============================] - 0s 5ms/step - loss: 0.4579 - accuracy: 0.7720 - val_loss: 0.4600 - val_accuracy: 0.7922\n",
            "Epoch 12/100\n",
            "20/20 [==============================] - 0s 4ms/step - loss: 0.4557 - accuracy: 0.7752 - val_loss: 0.4600 - val_accuracy: 0.7922\n",
            "Epoch 13/100\n",
            "20/20 [==============================] - 0s 3ms/step - loss: 0.4546 - accuracy: 0.7752 - val_loss: 0.4602 - val_accuracy: 0.7987\n",
            "Epoch 14/100\n",
            "20/20 [==============================] - 0s 3ms/step - loss: 0.4531 - accuracy: 0.7769 - val_loss: 0.4595 - val_accuracy: 0.8052\n",
            "Epoch 15/100\n",
            "20/20 [==============================] - 0s 4ms/step - loss: 0.4521 - accuracy: 0.7769 - val_loss: 0.4602 - val_accuracy: 0.8052\n",
            "Epoch 16/100\n",
            "20/20 [==============================] - 0s 3ms/step - loss: 0.4511 - accuracy: 0.7736 - val_loss: 0.4610 - val_accuracy: 0.8052\n",
            "Epoch 17/100\n",
            "20/20 [==============================] - 0s 4ms/step - loss: 0.4502 - accuracy: 0.7736 - val_loss: 0.4603 - val_accuracy: 0.7922\n",
            "Epoch 18/100\n",
            "20/20 [==============================] - 0s 4ms/step - loss: 0.4489 - accuracy: 0.7752 - val_loss: 0.4599 - val_accuracy: 0.7987\n",
            "Epoch 19/100\n",
            "20/20 [==============================] - 0s 4ms/step - loss: 0.4483 - accuracy: 0.7736 - val_loss: 0.4605 - val_accuracy: 0.7987\n",
            "Epoch 20/100\n",
            "20/20 [==============================] - 0s 3ms/step - loss: 0.4477 - accuracy: 0.7801 - val_loss: 0.4603 - val_accuracy: 0.8052\n",
            "Epoch 21/100\n",
            "20/20 [==============================] - 0s 3ms/step - loss: 0.4468 - accuracy: 0.7785 - val_loss: 0.4605 - val_accuracy: 0.8052\n",
            "Epoch 22/100\n",
            "20/20 [==============================] - 0s 4ms/step - loss: 0.4459 - accuracy: 0.7769 - val_loss: 0.4592 - val_accuracy: 0.8117\n",
            "Epoch 23/100\n",
            "20/20 [==============================] - 0s 4ms/step - loss: 0.4452 - accuracy: 0.7785 - val_loss: 0.4579 - val_accuracy: 0.8117\n",
            "Epoch 24/100\n",
            "20/20 [==============================] - 0s 4ms/step - loss: 0.4445 - accuracy: 0.7769 - val_loss: 0.4596 - val_accuracy: 0.8117\n",
            "Epoch 25/100\n",
            "20/20 [==============================] - 0s 4ms/step - loss: 0.4436 - accuracy: 0.7769 - val_loss: 0.4598 - val_accuracy: 0.8052\n",
            "Epoch 26/100\n",
            "20/20 [==============================] - 0s 4ms/step - loss: 0.4434 - accuracy: 0.7801 - val_loss: 0.4580 - val_accuracy: 0.8117\n",
            "Epoch 27/100\n",
            "20/20 [==============================] - 0s 3ms/step - loss: 0.4427 - accuracy: 0.7785 - val_loss: 0.4595 - val_accuracy: 0.8117\n",
            "Epoch 28/100\n",
            "20/20 [==============================] - 0s 3ms/step - loss: 0.4424 - accuracy: 0.7801 - val_loss: 0.4600 - val_accuracy: 0.8117\n",
            "Epoch 29/100\n",
            "20/20 [==============================] - 0s 3ms/step - loss: 0.4416 - accuracy: 0.7818 - val_loss: 0.4602 - val_accuracy: 0.8117\n",
            "Epoch 30/100\n",
            "20/20 [==============================] - 0s 4ms/step - loss: 0.4407 - accuracy: 0.7801 - val_loss: 0.4608 - val_accuracy: 0.8117\n",
            "Epoch 31/100\n",
            "20/20 [==============================] - 0s 4ms/step - loss: 0.4398 - accuracy: 0.7834 - val_loss: 0.4608 - val_accuracy: 0.8052\n",
            "Epoch 32/100\n",
            "20/20 [==============================] - 0s 4ms/step - loss: 0.4394 - accuracy: 0.7834 - val_loss: 0.4597 - val_accuracy: 0.8052\n",
            "Epoch 33/100\n",
            "20/20 [==============================] - 0s 3ms/step - loss: 0.4388 - accuracy: 0.7850 - val_loss: 0.4592 - val_accuracy: 0.8052\n",
            "Epoch 34/100\n",
            "20/20 [==============================] - 0s 4ms/step - loss: 0.4381 - accuracy: 0.7818 - val_loss: 0.4591 - val_accuracy: 0.8182\n",
            "Epoch 35/100\n",
            "20/20 [==============================] - 0s 4ms/step - loss: 0.4376 - accuracy: 0.7834 - val_loss: 0.4591 - val_accuracy: 0.8117\n",
            "Epoch 36/100\n",
            "20/20 [==============================] - 0s 5ms/step - loss: 0.4375 - accuracy: 0.7834 - val_loss: 0.4593 - val_accuracy: 0.8052\n",
            "Epoch 37/100\n",
            "20/20 [==============================] - 0s 3ms/step - loss: 0.4373 - accuracy: 0.7834 - val_loss: 0.4585 - val_accuracy: 0.8117\n",
            "Epoch 38/100\n",
            "20/20 [==============================] - 0s 3ms/step - loss: 0.4367 - accuracy: 0.7883 - val_loss: 0.4577 - val_accuracy: 0.8182\n",
            "Epoch 39/100\n",
            "20/20 [==============================] - 0s 3ms/step - loss: 0.4359 - accuracy: 0.7899 - val_loss: 0.4582 - val_accuracy: 0.8117\n",
            "Epoch 40/100\n",
            "20/20 [==============================] - 0s 3ms/step - loss: 0.4354 - accuracy: 0.7883 - val_loss: 0.4575 - val_accuracy: 0.8052\n",
            "Epoch 41/100\n",
            "20/20 [==============================] - 0s 4ms/step - loss: 0.4350 - accuracy: 0.7850 - val_loss: 0.4595 - val_accuracy: 0.8052\n",
            "Epoch 42/100\n",
            "20/20 [==============================] - 0s 4ms/step - loss: 0.4345 - accuracy: 0.7818 - val_loss: 0.4606 - val_accuracy: 0.8052\n",
            "Epoch 43/100\n",
            "20/20 [==============================] - 0s 4ms/step - loss: 0.4335 - accuracy: 0.7850 - val_loss: 0.4594 - val_accuracy: 0.8052\n",
            "Epoch 44/100\n",
            "20/20 [==============================] - 0s 4ms/step - loss: 0.4333 - accuracy: 0.7883 - val_loss: 0.4596 - val_accuracy: 0.7987\n",
            "Epoch 45/100\n",
            "20/20 [==============================] - 0s 4ms/step - loss: 0.4331 - accuracy: 0.7866 - val_loss: 0.4576 - val_accuracy: 0.8052\n",
            "Epoch 46/100\n",
            "20/20 [==============================] - 0s 4ms/step - loss: 0.4328 - accuracy: 0.7850 - val_loss: 0.4599 - val_accuracy: 0.8052\n",
            "Epoch 47/100\n",
            "20/20 [==============================] - 0s 3ms/step - loss: 0.4332 - accuracy: 0.7883 - val_loss: 0.4597 - val_accuracy: 0.8117\n",
            "Epoch 48/100\n",
            "20/20 [==============================] - 0s 4ms/step - loss: 0.4321 - accuracy: 0.7866 - val_loss: 0.4608 - val_accuracy: 0.8052\n",
            "Epoch 49/100\n",
            "20/20 [==============================] - 0s 4ms/step - loss: 0.4318 - accuracy: 0.7883 - val_loss: 0.4621 - val_accuracy: 0.7987\n",
            "Epoch 50/100\n",
            "20/20 [==============================] - 0s 3ms/step - loss: 0.4311 - accuracy: 0.7899 - val_loss: 0.4630 - val_accuracy: 0.8052\n",
            "Epoch 51/100\n",
            "20/20 [==============================] - 0s 3ms/step - loss: 0.4315 - accuracy: 0.7866 - val_loss: 0.4620 - val_accuracy: 0.8052\n",
            "Epoch 52/100\n",
            "20/20 [==============================] - 0s 4ms/step - loss: 0.4306 - accuracy: 0.7899 - val_loss: 0.4612 - val_accuracy: 0.7922\n",
            "Epoch 53/100\n",
            "20/20 [==============================] - 0s 3ms/step - loss: 0.4302 - accuracy: 0.7899 - val_loss: 0.4608 - val_accuracy: 0.8052\n",
            "Epoch 54/100\n",
            "20/20 [==============================] - 0s 3ms/step - loss: 0.4294 - accuracy: 0.7899 - val_loss: 0.4604 - val_accuracy: 0.7987\n",
            "Epoch 55/100\n",
            "20/20 [==============================] - 0s 4ms/step - loss: 0.4288 - accuracy: 0.7899 - val_loss: 0.4589 - val_accuracy: 0.8117\n",
            "Epoch 56/100\n",
            "20/20 [==============================] - 0s 4ms/step - loss: 0.4282 - accuracy: 0.7883 - val_loss: 0.4587 - val_accuracy: 0.8117\n",
            "Epoch 57/100\n",
            "20/20 [==============================] - 0s 4ms/step - loss: 0.4284 - accuracy: 0.7899 - val_loss: 0.4599 - val_accuracy: 0.8117\n",
            "Epoch 58/100\n",
            "20/20 [==============================] - 0s 5ms/step - loss: 0.4276 - accuracy: 0.7948 - val_loss: 0.4598 - val_accuracy: 0.8052\n",
            "Epoch 59/100\n",
            "20/20 [==============================] - 0s 6ms/step - loss: 0.4279 - accuracy: 0.7915 - val_loss: 0.4616 - val_accuracy: 0.8052\n",
            "Epoch 60/100\n",
            "20/20 [==============================] - 0s 5ms/step - loss: 0.4273 - accuracy: 0.7915 - val_loss: 0.4605 - val_accuracy: 0.8117\n",
            "Epoch 61/100\n",
            "20/20 [==============================] - 0s 6ms/step - loss: 0.4266 - accuracy: 0.7883 - val_loss: 0.4596 - val_accuracy: 0.8117\n",
            "Epoch 62/100\n",
            "20/20 [==============================] - 0s 5ms/step - loss: 0.4263 - accuracy: 0.7915 - val_loss: 0.4602 - val_accuracy: 0.8182\n",
            "Epoch 63/100\n",
            "20/20 [==============================] - 0s 5ms/step - loss: 0.4261 - accuracy: 0.7964 - val_loss: 0.4607 - val_accuracy: 0.8182\n",
            "Epoch 64/100\n",
            "20/20 [==============================] - 0s 5ms/step - loss: 0.4256 - accuracy: 0.7932 - val_loss: 0.4587 - val_accuracy: 0.8117\n",
            "Epoch 65/100\n",
            "20/20 [==============================] - 0s 5ms/step - loss: 0.4254 - accuracy: 0.7948 - val_loss: 0.4580 - val_accuracy: 0.8117\n",
            "Epoch 66/100\n",
            "20/20 [==============================] - 0s 7ms/step - loss: 0.4252 - accuracy: 0.7915 - val_loss: 0.4571 - val_accuracy: 0.8182\n",
            "Epoch 67/100\n",
            "20/20 [==============================] - 0s 6ms/step - loss: 0.4249 - accuracy: 0.7948 - val_loss: 0.4575 - val_accuracy: 0.8182\n",
            "Epoch 68/100\n",
            "20/20 [==============================] - 0s 6ms/step - loss: 0.4245 - accuracy: 0.7948 - val_loss: 0.4579 - val_accuracy: 0.8182\n",
            "Epoch 69/100\n",
            "20/20 [==============================] - 0s 5ms/step - loss: 0.4248 - accuracy: 0.7932 - val_loss: 0.4591 - val_accuracy: 0.8117\n",
            "Epoch 70/100\n",
            "20/20 [==============================] - 0s 5ms/step - loss: 0.4238 - accuracy: 0.7964 - val_loss: 0.4585 - val_accuracy: 0.8117\n",
            "Epoch 71/100\n",
            "20/20 [==============================] - 0s 4ms/step - loss: 0.4239 - accuracy: 0.7932 - val_loss: 0.4597 - val_accuracy: 0.8052\n",
            "Epoch 72/100\n",
            "20/20 [==============================] - 0s 5ms/step - loss: 0.4233 - accuracy: 0.7948 - val_loss: 0.4594 - val_accuracy: 0.8182\n",
            "Epoch 73/100\n",
            "20/20 [==============================] - 0s 6ms/step - loss: 0.4233 - accuracy: 0.7964 - val_loss: 0.4594 - val_accuracy: 0.8247\n",
            "Epoch 74/100\n",
            "20/20 [==============================] - 0s 5ms/step - loss: 0.4230 - accuracy: 0.7964 - val_loss: 0.4591 - val_accuracy: 0.8182\n",
            "Epoch 75/100\n",
            "20/20 [==============================] - 0s 6ms/step - loss: 0.4228 - accuracy: 0.7997 - val_loss: 0.4596 - val_accuracy: 0.8182\n",
            "Epoch 76/100\n",
            "20/20 [==============================] - 0s 5ms/step - loss: 0.4228 - accuracy: 0.7948 - val_loss: 0.4590 - val_accuracy: 0.8117\n",
            "Epoch 77/100\n",
            "20/20 [==============================] - 0s 5ms/step - loss: 0.4220 - accuracy: 0.7948 - val_loss: 0.4586 - val_accuracy: 0.8182\n",
            "Epoch 78/100\n",
            "20/20 [==============================] - 0s 6ms/step - loss: 0.4222 - accuracy: 0.7915 - val_loss: 0.4602 - val_accuracy: 0.8117\n",
            "Epoch 79/100\n",
            "20/20 [==============================] - 0s 5ms/step - loss: 0.4213 - accuracy: 0.7980 - val_loss: 0.4588 - val_accuracy: 0.8247\n",
            "Epoch 80/100\n",
            "20/20 [==============================] - 0s 5ms/step - loss: 0.4212 - accuracy: 0.7997 - val_loss: 0.4592 - val_accuracy: 0.8182\n",
            "Epoch 81/100\n",
            "20/20 [==============================] - 0s 5ms/step - loss: 0.4210 - accuracy: 0.7997 - val_loss: 0.4613 - val_accuracy: 0.8117\n",
            "Epoch 82/100\n",
            "20/20 [==============================] - 0s 5ms/step - loss: 0.4203 - accuracy: 0.7997 - val_loss: 0.4608 - val_accuracy: 0.8117\n",
            "Epoch 83/100\n",
            "20/20 [==============================] - 0s 5ms/step - loss: 0.4204 - accuracy: 0.8013 - val_loss: 0.4598 - val_accuracy: 0.8117\n",
            "Epoch 84/100\n",
            "20/20 [==============================] - 0s 5ms/step - loss: 0.4198 - accuracy: 0.7980 - val_loss: 0.4602 - val_accuracy: 0.8117\n",
            "Epoch 85/100\n",
            "20/20 [==============================] - 0s 6ms/step - loss: 0.4193 - accuracy: 0.8029 - val_loss: 0.4599 - val_accuracy: 0.8182\n",
            "Epoch 86/100\n",
            "20/20 [==============================] - 0s 6ms/step - loss: 0.4204 - accuracy: 0.7997 - val_loss: 0.4601 - val_accuracy: 0.8117\n",
            "Epoch 87/100\n",
            "20/20 [==============================] - 0s 5ms/step - loss: 0.4191 - accuracy: 0.8029 - val_loss: 0.4604 - val_accuracy: 0.8247\n",
            "Epoch 88/100\n",
            "20/20 [==============================] - 0s 6ms/step - loss: 0.4190 - accuracy: 0.7997 - val_loss: 0.4605 - val_accuracy: 0.8247\n",
            "Epoch 89/100\n",
            "20/20 [==============================] - 0s 6ms/step - loss: 0.4189 - accuracy: 0.7964 - val_loss: 0.4612 - val_accuracy: 0.8247\n",
            "Epoch 90/100\n",
            "20/20 [==============================] - 0s 5ms/step - loss: 0.4187 - accuracy: 0.8046 - val_loss: 0.4587 - val_accuracy: 0.8182\n",
            "Epoch 91/100\n",
            "20/20 [==============================] - 0s 3ms/step - loss: 0.4180 - accuracy: 0.8046 - val_loss: 0.4601 - val_accuracy: 0.8312\n",
            "Epoch 92/100\n",
            "20/20 [==============================] - 0s 3ms/step - loss: 0.4178 - accuracy: 0.8062 - val_loss: 0.4614 - val_accuracy: 0.8117\n",
            "Epoch 93/100\n",
            "20/20 [==============================] - 0s 3ms/step - loss: 0.4181 - accuracy: 0.8013 - val_loss: 0.4605 - val_accuracy: 0.8247\n",
            "Epoch 94/100\n",
            "20/20 [==============================] - 0s 4ms/step - loss: 0.4174 - accuracy: 0.8046 - val_loss: 0.4586 - val_accuracy: 0.8247\n",
            "Epoch 95/100\n",
            "20/20 [==============================] - 0s 3ms/step - loss: 0.4167 - accuracy: 0.8062 - val_loss: 0.4574 - val_accuracy: 0.8312\n",
            "Epoch 96/100\n",
            "20/20 [==============================] - 0s 4ms/step - loss: 0.4171 - accuracy: 0.8078 - val_loss: 0.4562 - val_accuracy: 0.8247\n",
            "Epoch 97/100\n",
            "20/20 [==============================] - 0s 4ms/step - loss: 0.4175 - accuracy: 0.7980 - val_loss: 0.4554 - val_accuracy: 0.8182\n",
            "Epoch 98/100\n",
            "20/20 [==============================] - 0s 4ms/step - loss: 0.4173 - accuracy: 0.7980 - val_loss: 0.4587 - val_accuracy: 0.8052\n",
            "Epoch 99/100\n",
            "20/20 [==============================] - 0s 4ms/step - loss: 0.4175 - accuracy: 0.7980 - val_loss: 0.4573 - val_accuracy: 0.8117\n",
            "Epoch 100/100\n",
            "20/20 [==============================] - 0s 3ms/step - loss: 0.4160 - accuracy: 0.8029 - val_loss: 0.4581 - val_accuracy: 0.8247\n"
          ]
        },
        {
          "output_type": "execute_result",
          "data": {
            "text/plain": [
              "<keras.src.callbacks.History at 0x7df7e4348b20>"
            ]
          },
          "metadata": {},
          "execution_count": 57
        }
      ]
    },
    {
      "cell_type": "code",
      "source": [
        "# # prompt: make a function which calculates best number of neurons\n",
        "\n",
        "# def tune_neurons(hp):\n",
        "#   model = Sequential()\n",
        "#   model.add(Dense(units=hp.Int('units', min_value=32, max_value=512, step=32),\n",
        "#                   activation='relu', input_dim=8))\n",
        "#   model.add(Dense(1, activation='sigmoid'))\n",
        "#   model.compile(optimizer='Adam', loss='binary_crossentropy', metrics=['accuracy'])\n",
        "#   return model\n",
        "\n",
        "# tuner = kt.RandomSearch(tune_neurons,\n",
        "#                         objective='val_accuracy',\n",
        "#                         max_trials=5)\n",
        "# tuner.search(X_train, y_train, epochs=5, validation_data=(X_test, y_test))\n",
        "# best_neurons = tuner.get_best_hyperparameters()[0].get('units')\n",
        "# print(\"Best number of neurons:\", best_neurons)\n"
      ],
      "metadata": {
        "id": "7swHuGeRxNfS"
      },
      "execution_count": 58,
      "outputs": []
    },
    {
      "cell_type": "code",
      "source": [
        "def build_model(hp):\n",
        "\n",
        "  model = Sequential()\n",
        "  units = hp.Int('units', min_value=8, max_value=128, step=8)\n",
        "  model.add(Dense(32, activation='relu', input_dim=8))\n",
        "  model.add(Dense(1, activation='sigmoid'))\n",
        "  model.compile(optimizer='rmsprop', loss='binary_crossentropy', metrics=['accuracy'])\n",
        "  return model"
      ],
      "metadata": {
        "id": "LY_GxWqvy4Fv"
      },
      "execution_count": 59,
      "outputs": []
    },
    {
      "cell_type": "code",
      "source": [
        "tuner = kt.RandomSearch(build_model,\n",
        "                        objective='val_accuracy',\n",
        "                        max_trials=5,\n",
        "                        directory='keras-deep-learning',\n",
        "                        project_name='intro_to_kt')"
      ],
      "metadata": {
        "colab": {
          "base_uri": "https://localhost:8080/"
        },
        "id": "Bx3wo5RVprSZ",
        "outputId": "0e04dceb-0cb6-469c-db2c-1f5d8d84a866"
      },
      "execution_count": 60,
      "outputs": [
        {
          "output_type": "stream",
          "name": "stdout",
          "text": [
            "Reloading Tuner from keras-deep-learning/intro_to_kt/tuner0.json\n"
          ]
        }
      ]
    },
    {
      "cell_type": "code",
      "source": [
        "tuner.search(X_train, y_train, epochs=5, validation_data=(X_test, y_test))"
      ],
      "metadata": {
        "id": "JPU1Q5zVuREr"
      },
      "execution_count": 61,
      "outputs": []
    },
    {
      "cell_type": "code",
      "source": [
        "tuner.results_summary()"
      ],
      "metadata": {
        "colab": {
          "base_uri": "https://localhost:8080/"
        },
        "id": "wT5jCiRLua0m",
        "outputId": "e41cdf4c-b2cb-49d2-a884-9c0d6dae45cf"
      },
      "execution_count": 62,
      "outputs": [
        {
          "output_type": "stream",
          "name": "stdout",
          "text": [
            "Results summary\n",
            "Results in keras-deep-learning/intro_to_kt\n",
            "Showing 10 best trials\n",
            "Objective(name=\"val_accuracy\", direction=\"max\")\n",
            "\n",
            "Trial 2 summary\n",
            "Hyperparameters:\n",
            "units: 56\n",
            "Score: 0.8051947951316833\n",
            "\n",
            "Trial 4 summary\n",
            "Hyperparameters:\n",
            "units: 104\n",
            "Score: 0.7922077775001526\n",
            "\n",
            "Trial 0 summary\n",
            "Hyperparameters:\n",
            "units: 120\n",
            "Score: 0.7532467246055603\n",
            "\n",
            "Trial 3 summary\n",
            "Hyperparameters:\n",
            "units: 40\n",
            "Score: 0.7467532753944397\n",
            "\n",
            "Trial 1 summary\n",
            "Hyperparameters:\n",
            "units: 128\n",
            "Score: 0.7467532753944397\n"
          ]
        }
      ]
    },
    {
      "cell_type": "code",
      "source": [
        "tuner.get_best_hyperparameters()[0].values"
      ],
      "metadata": {
        "colab": {
          "base_uri": "https://localhost:8080/"
        },
        "id": "m29Qzx8XvPsf",
        "outputId": "a5d3a471-d278-4257-8d4b-368f4456b53e"
      },
      "execution_count": 63,
      "outputs": [
        {
          "output_type": "execute_result",
          "data": {
            "text/plain": [
              "{'units': 56}"
            ]
          },
          "metadata": {},
          "execution_count": 63
        }
      ]
    },
    {
      "cell_type": "code",
      "source": [
        "def build_model(hp):\n",
        "  model = Sequential()\n",
        "  model.add(Dense(56, activation='relu', input_dim=8))\n",
        "  for i in range(hp.Int('num_layers', 1, 5)):\n",
        "    model.add(Dense(56, activation='relu'))\n",
        "  model.add(Dense(1, activation='sigmoid'))\n",
        "  model.compile(optimizer='Adam', loss='binary_crossentropy', metrics=['accuracy'])\n",
        "  return model"
      ],
      "metadata": {
        "id": "Os1439JYzDYn"
      },
      "execution_count": 66,
      "outputs": []
    },
    {
      "cell_type": "code",
      "source": [
        "tuner = kt.RandomSearch(build_model,\n",
        "                        objective='val_accuracy',\n",
        "                        max_trials=5,\n",
        "                        directory='keras-deep-learning',\n",
        "                        project_name='num_layers')\n"
      ],
      "metadata": {
        "id": "ROQfCB0nzDso"
      },
      "execution_count": 67,
      "outputs": []
    },
    {
      "cell_type": "code",
      "source": [
        "tuner.search(X_train, y_train, epochs=5, validation_data=(X_test, y_test))\n",
        "\n",
        "tuner.results_summary()"
      ],
      "metadata": {
        "colab": {
          "base_uri": "https://localhost:8080/"
        },
        "id": "JJOt7NjFzD1H",
        "outputId": "d39dff73-d0cf-46d8-e347-880269775535"
      },
      "execution_count": 68,
      "outputs": [
        {
          "output_type": "stream",
          "name": "stdout",
          "text": [
            "Trial 5 Complete [00h 00m 03s]\n",
            "val_accuracy: 0.8181818127632141\n",
            "\n",
            "Best val_accuracy So Far: 0.8181818127632141\n",
            "Total elapsed time: 00h 00m 15s\n",
            "Results summary\n",
            "Results in keras-deep-learning/num_layers\n",
            "Showing 10 best trials\n",
            "Objective(name=\"val_accuracy\", direction=\"max\")\n",
            "\n",
            "Trial 4 summary\n",
            "Hyperparameters:\n",
            "num_layers: 5\n",
            "Score: 0.8181818127632141\n",
            "\n",
            "Trial 3 summary\n",
            "Hyperparameters:\n",
            "num_layers: 2\n",
            "Score: 0.8116883039474487\n",
            "\n",
            "Trial 0 summary\n",
            "Hyperparameters:\n",
            "num_layers: 3\n",
            "Score: 0.8051947951316833\n",
            "\n",
            "Trial 1 summary\n",
            "Hyperparameters:\n",
            "num_layers: 1\n",
            "Score: 0.7922077775001526\n",
            "\n",
            "Trial 2 summary\n",
            "Hyperparameters:\n",
            "num_layers: 4\n",
            "Score: 0.7857142686843872\n"
          ]
        }
      ]
    },
    {
      "cell_type": "code",
      "source": [
        "tuner.get_best_hyperparameters()[0].values"
      ],
      "metadata": {
        "colab": {
          "base_uri": "https://localhost:8080/"
        },
        "id": "dpUpU_X20F0_",
        "outputId": "d350e9c6-f93e-4603-a49d-8fd94b050b23"
      },
      "execution_count": 69,
      "outputs": [
        {
          "output_type": "execute_result",
          "data": {
            "text/plain": [
              "{'num_layers': 5}"
            ]
          },
          "metadata": {},
          "execution_count": 69
        }
      ]
    },
    {
      "cell_type": "code",
      "source": [
        "model = tuner.get_best_models(num_models=1)[0]"
      ],
      "metadata": {
        "id": "CNq77tBl1MQj"
      },
      "execution_count": 70,
      "outputs": []
    },
    {
      "cell_type": "code",
      "source": [
        "model.fit(X_train, y_train, epochs=100, validation_data=(X_test, y_test))"
      ],
      "metadata": {
        "colab": {
          "base_uri": "https://localhost:8080/"
        },
        "id": "VuEidXyK6bq-",
        "outputId": "947657f4-3284-455e-b52d-a23a567c8b29"
      },
      "execution_count": 73,
      "outputs": [
        {
          "output_type": "stream",
          "name": "stdout",
          "text": [
            "Epoch 1/100\n",
            "20/20 [==============================] - 0s 7ms/step - loss: 0.0012 - accuracy: 1.0000 - val_loss: 1.9468 - val_accuracy: 0.7078\n",
            "Epoch 2/100\n",
            "20/20 [==============================] - 0s 5ms/step - loss: 0.0011 - accuracy: 1.0000 - val_loss: 1.9708 - val_accuracy: 0.7078\n",
            "Epoch 3/100\n",
            "20/20 [==============================] - 0s 4ms/step - loss: 0.0010 - accuracy: 1.0000 - val_loss: 1.9873 - val_accuracy: 0.7078\n",
            "Epoch 4/100\n",
            "20/20 [==============================] - 0s 4ms/step - loss: 9.9386e-04 - accuracy: 1.0000 - val_loss: 2.0039 - val_accuracy: 0.7078\n",
            "Epoch 5/100\n",
            "20/20 [==============================] - 0s 5ms/step - loss: 9.4225e-04 - accuracy: 1.0000 - val_loss: 2.0188 - val_accuracy: 0.7078\n",
            "Epoch 6/100\n",
            "20/20 [==============================] - 0s 5ms/step - loss: 9.0397e-04 - accuracy: 1.0000 - val_loss: 2.0359 - val_accuracy: 0.7078\n",
            "Epoch 7/100\n",
            "20/20 [==============================] - 0s 5ms/step - loss: 8.3434e-04 - accuracy: 1.0000 - val_loss: 2.0539 - val_accuracy: 0.7078\n",
            "Epoch 8/100\n",
            "20/20 [==============================] - 0s 4ms/step - loss: 8.1795e-04 - accuracy: 1.0000 - val_loss: 2.0724 - val_accuracy: 0.7078\n",
            "Epoch 9/100\n",
            "20/20 [==============================] - 0s 4ms/step - loss: 7.3640e-04 - accuracy: 1.0000 - val_loss: 2.0860 - val_accuracy: 0.7078\n",
            "Epoch 10/100\n",
            "20/20 [==============================] - 0s 4ms/step - loss: 7.3035e-04 - accuracy: 1.0000 - val_loss: 2.1013 - val_accuracy: 0.7078\n",
            "Epoch 11/100\n",
            "20/20 [==============================] - 0s 4ms/step - loss: 7.0085e-04 - accuracy: 1.0000 - val_loss: 2.1196 - val_accuracy: 0.7078\n",
            "Epoch 12/100\n",
            "20/20 [==============================] - 0s 5ms/step - loss: 6.2676e-04 - accuracy: 1.0000 - val_loss: 2.1288 - val_accuracy: 0.7078\n",
            "Epoch 13/100\n",
            "20/20 [==============================] - 0s 5ms/step - loss: 6.2752e-04 - accuracy: 1.0000 - val_loss: 2.1463 - val_accuracy: 0.7078\n",
            "Epoch 14/100\n",
            "20/20 [==============================] - 0s 5ms/step - loss: 6.0560e-04 - accuracy: 1.0000 - val_loss: 2.1630 - val_accuracy: 0.7078\n",
            "Epoch 15/100\n",
            "20/20 [==============================] - 0s 4ms/step - loss: 5.4105e-04 - accuracy: 1.0000 - val_loss: 2.1762 - val_accuracy: 0.7143\n",
            "Epoch 16/100\n",
            "20/20 [==============================] - 0s 4ms/step - loss: 5.3283e-04 - accuracy: 1.0000 - val_loss: 2.1881 - val_accuracy: 0.7078\n",
            "Epoch 17/100\n",
            "20/20 [==============================] - 0s 4ms/step - loss: 4.9809e-04 - accuracy: 1.0000 - val_loss: 2.1962 - val_accuracy: 0.7143\n",
            "Epoch 18/100\n",
            "20/20 [==============================] - 0s 5ms/step - loss: 4.9147e-04 - accuracy: 1.0000 - val_loss: 2.2109 - val_accuracy: 0.7078\n",
            "Epoch 19/100\n",
            "20/20 [==============================] - 0s 4ms/step - loss: 4.7584e-04 - accuracy: 1.0000 - val_loss: 2.2172 - val_accuracy: 0.7078\n",
            "Epoch 20/100\n",
            "20/20 [==============================] - 0s 4ms/step - loss: 4.4556e-04 - accuracy: 1.0000 - val_loss: 2.2310 - val_accuracy: 0.7143\n",
            "Epoch 21/100\n",
            "20/20 [==============================] - 0s 4ms/step - loss: 4.2742e-04 - accuracy: 1.0000 - val_loss: 2.2378 - val_accuracy: 0.7143\n",
            "Epoch 22/100\n",
            "20/20 [==============================] - 0s 5ms/step - loss: 4.1435e-04 - accuracy: 1.0000 - val_loss: 2.2502 - val_accuracy: 0.7143\n",
            "Epoch 23/100\n",
            "20/20 [==============================] - 0s 4ms/step - loss: 3.9464e-04 - accuracy: 1.0000 - val_loss: 2.2558 - val_accuracy: 0.7143\n",
            "Epoch 24/100\n",
            "20/20 [==============================] - 0s 6ms/step - loss: 3.7528e-04 - accuracy: 1.0000 - val_loss: 2.2734 - val_accuracy: 0.7143\n",
            "Epoch 25/100\n",
            "20/20 [==============================] - 0s 5ms/step - loss: 3.6394e-04 - accuracy: 1.0000 - val_loss: 2.2916 - val_accuracy: 0.7143\n",
            "Epoch 26/100\n",
            "20/20 [==============================] - 0s 4ms/step - loss: 3.5192e-04 - accuracy: 1.0000 - val_loss: 2.3115 - val_accuracy: 0.7078\n",
            "Epoch 27/100\n",
            "20/20 [==============================] - 0s 4ms/step - loss: 3.3774e-04 - accuracy: 1.0000 - val_loss: 2.3212 - val_accuracy: 0.7143\n",
            "Epoch 28/100\n",
            "20/20 [==============================] - 0s 4ms/step - loss: 3.1275e-04 - accuracy: 1.0000 - val_loss: 2.3324 - val_accuracy: 0.7143\n",
            "Epoch 29/100\n",
            "20/20 [==============================] - 0s 4ms/step - loss: 3.0463e-04 - accuracy: 1.0000 - val_loss: 2.3442 - val_accuracy: 0.7143\n",
            "Epoch 30/100\n",
            "20/20 [==============================] - 0s 5ms/step - loss: 2.8536e-04 - accuracy: 1.0000 - val_loss: 2.3555 - val_accuracy: 0.7143\n",
            "Epoch 31/100\n",
            "20/20 [==============================] - 0s 4ms/step - loss: 2.7716e-04 - accuracy: 1.0000 - val_loss: 2.3669 - val_accuracy: 0.7143\n",
            "Epoch 32/100\n",
            "20/20 [==============================] - 0s 4ms/step - loss: 3.8569e-04 - accuracy: 1.0000 - val_loss: 2.3801 - val_accuracy: 0.7143\n",
            "Epoch 33/100\n",
            "20/20 [==============================] - 0s 4ms/step - loss: 2.6446e-04 - accuracy: 1.0000 - val_loss: 2.3964 - val_accuracy: 0.7143\n",
            "Epoch 34/100\n",
            "20/20 [==============================] - 0s 5ms/step - loss: 2.5140e-04 - accuracy: 1.0000 - val_loss: 2.4060 - val_accuracy: 0.7143\n",
            "Epoch 35/100\n",
            "20/20 [==============================] - 0s 5ms/step - loss: 2.3223e-04 - accuracy: 1.0000 - val_loss: 2.4158 - val_accuracy: 0.7143\n",
            "Epoch 36/100\n",
            "20/20 [==============================] - 0s 4ms/step - loss: 2.4026e-04 - accuracy: 1.0000 - val_loss: 2.4283 - val_accuracy: 0.7143\n",
            "Epoch 37/100\n",
            "20/20 [==============================] - 0s 4ms/step - loss: 2.2363e-04 - accuracy: 1.0000 - val_loss: 2.4370 - val_accuracy: 0.7143\n",
            "Epoch 38/100\n",
            "20/20 [==============================] - 0s 4ms/step - loss: 2.1646e-04 - accuracy: 1.0000 - val_loss: 2.4485 - val_accuracy: 0.7143\n",
            "Epoch 39/100\n",
            "20/20 [==============================] - 0s 4ms/step - loss: 2.0198e-04 - accuracy: 1.0000 - val_loss: 2.4602 - val_accuracy: 0.7143\n",
            "Epoch 40/100\n",
            "20/20 [==============================] - 0s 5ms/step - loss: 1.9461e-04 - accuracy: 1.0000 - val_loss: 2.4708 - val_accuracy: 0.7143\n",
            "Epoch 41/100\n",
            "20/20 [==============================] - 0s 4ms/step - loss: 1.9310e-04 - accuracy: 1.0000 - val_loss: 2.4824 - val_accuracy: 0.7143\n",
            "Epoch 42/100\n",
            "20/20 [==============================] - 0s 4ms/step - loss: 1.8407e-04 - accuracy: 1.0000 - val_loss: 2.4945 - val_accuracy: 0.7143\n",
            "Epoch 43/100\n",
            "20/20 [==============================] - 0s 4ms/step - loss: 1.7739e-04 - accuracy: 1.0000 - val_loss: 2.5067 - val_accuracy: 0.7143\n",
            "Epoch 44/100\n",
            "20/20 [==============================] - 0s 5ms/step - loss: 1.7295e-04 - accuracy: 1.0000 - val_loss: 2.5181 - val_accuracy: 0.7143\n",
            "Epoch 45/100\n",
            "20/20 [==============================] - 0s 5ms/step - loss: 1.6507e-04 - accuracy: 1.0000 - val_loss: 2.5313 - val_accuracy: 0.7143\n",
            "Epoch 46/100\n",
            "20/20 [==============================] - 0s 6ms/step - loss: 1.5805e-04 - accuracy: 1.0000 - val_loss: 2.5406 - val_accuracy: 0.7143\n",
            "Epoch 47/100\n",
            "20/20 [==============================] - 0s 5ms/step - loss: 1.5852e-04 - accuracy: 1.0000 - val_loss: 2.5506 - val_accuracy: 0.7143\n",
            "Epoch 48/100\n",
            "20/20 [==============================] - 0s 4ms/step - loss: 1.4998e-04 - accuracy: 1.0000 - val_loss: 2.5621 - val_accuracy: 0.7143\n",
            "Epoch 49/100\n",
            "20/20 [==============================] - 0s 4ms/step - loss: 1.4546e-04 - accuracy: 1.0000 - val_loss: 2.5716 - val_accuracy: 0.7143\n",
            "Epoch 50/100\n",
            "20/20 [==============================] - 0s 4ms/step - loss: 1.3743e-04 - accuracy: 1.0000 - val_loss: 2.5815 - val_accuracy: 0.7143\n",
            "Epoch 51/100\n",
            "20/20 [==============================] - 0s 4ms/step - loss: 1.3775e-04 - accuracy: 1.0000 - val_loss: 2.5927 - val_accuracy: 0.7143\n",
            "Epoch 52/100\n",
            "20/20 [==============================] - 0s 4ms/step - loss: 1.3892e-04 - accuracy: 1.0000 - val_loss: 2.6032 - val_accuracy: 0.7143\n",
            "Epoch 53/100\n",
            "20/20 [==============================] - 0s 4ms/step - loss: 1.2545e-04 - accuracy: 1.0000 - val_loss: 2.6147 - val_accuracy: 0.7143\n",
            "Epoch 54/100\n",
            "20/20 [==============================] - 0s 5ms/step - loss: 1.2257e-04 - accuracy: 1.0000 - val_loss: 2.6256 - val_accuracy: 0.7143\n",
            "Epoch 55/100\n",
            "20/20 [==============================] - 0s 5ms/step - loss: 1.1804e-04 - accuracy: 1.0000 - val_loss: 2.6364 - val_accuracy: 0.7143\n",
            "Epoch 56/100\n",
            "20/20 [==============================] - 0s 6ms/step - loss: 1.1278e-04 - accuracy: 1.0000 - val_loss: 2.6463 - val_accuracy: 0.7143\n",
            "Epoch 57/100\n",
            "20/20 [==============================] - 0s 4ms/step - loss: 1.0789e-04 - accuracy: 1.0000 - val_loss: 2.6580 - val_accuracy: 0.7143\n",
            "Epoch 58/100\n",
            "20/20 [==============================] - 0s 4ms/step - loss: 1.0533e-04 - accuracy: 1.0000 - val_loss: 2.6674 - val_accuracy: 0.7143\n",
            "Epoch 59/100\n",
            "20/20 [==============================] - 0s 4ms/step - loss: 1.0603e-04 - accuracy: 1.0000 - val_loss: 2.6772 - val_accuracy: 0.7143\n",
            "Epoch 60/100\n",
            "20/20 [==============================] - 0s 4ms/step - loss: 9.8806e-05 - accuracy: 1.0000 - val_loss: 2.6876 - val_accuracy: 0.7143\n",
            "Epoch 61/100\n",
            "20/20 [==============================] - 0s 5ms/step - loss: 9.7905e-05 - accuracy: 1.0000 - val_loss: 2.6973 - val_accuracy: 0.7143\n",
            "Epoch 62/100\n",
            "20/20 [==============================] - 0s 4ms/step - loss: 9.2649e-05 - accuracy: 1.0000 - val_loss: 2.7078 - val_accuracy: 0.7143\n",
            "Epoch 63/100\n",
            "20/20 [==============================] - 0s 5ms/step - loss: 9.2204e-05 - accuracy: 1.0000 - val_loss: 2.7171 - val_accuracy: 0.7143\n",
            "Epoch 64/100\n",
            "20/20 [==============================] - 0s 4ms/step - loss: 8.7567e-05 - accuracy: 1.0000 - val_loss: 2.7272 - val_accuracy: 0.7143\n",
            "Epoch 65/100\n",
            "20/20 [==============================] - 0s 5ms/step - loss: 8.5440e-05 - accuracy: 1.0000 - val_loss: 2.7369 - val_accuracy: 0.7143\n",
            "Epoch 66/100\n",
            "20/20 [==============================] - 0s 6ms/step - loss: 8.2534e-05 - accuracy: 1.0000 - val_loss: 2.7460 - val_accuracy: 0.7143\n",
            "Epoch 67/100\n",
            "20/20 [==============================] - 0s 4ms/step - loss: 8.0707e-05 - accuracy: 1.0000 - val_loss: 2.7559 - val_accuracy: 0.7143\n",
            "Epoch 68/100\n",
            "20/20 [==============================] - 0s 5ms/step - loss: 8.0035e-05 - accuracy: 1.0000 - val_loss: 2.7671 - val_accuracy: 0.7143\n",
            "Epoch 69/100\n",
            "20/20 [==============================] - 0s 7ms/step - loss: 7.5077e-05 - accuracy: 1.0000 - val_loss: 2.7766 - val_accuracy: 0.7143\n",
            "Epoch 70/100\n",
            "20/20 [==============================] - 0s 7ms/step - loss: 7.5704e-05 - accuracy: 1.0000 - val_loss: 2.7842 - val_accuracy: 0.7143\n",
            "Epoch 71/100\n",
            "20/20 [==============================] - 0s 7ms/step - loss: 7.1249e-05 - accuracy: 1.0000 - val_loss: 2.7941 - val_accuracy: 0.7143\n",
            "Epoch 72/100\n",
            "20/20 [==============================] - 0s 7ms/step - loss: 7.0539e-05 - accuracy: 1.0000 - val_loss: 2.8033 - val_accuracy: 0.7143\n",
            "Epoch 73/100\n",
            "20/20 [==============================] - 0s 9ms/step - loss: 6.6967e-05 - accuracy: 1.0000 - val_loss: 2.8129 - val_accuracy: 0.7143\n",
            "Epoch 74/100\n",
            "20/20 [==============================] - 0s 7ms/step - loss: 6.6100e-05 - accuracy: 1.0000 - val_loss: 2.8223 - val_accuracy: 0.7143\n",
            "Epoch 75/100\n",
            "20/20 [==============================] - 0s 6ms/step - loss: 6.3650e-05 - accuracy: 1.0000 - val_loss: 2.8304 - val_accuracy: 0.7143\n",
            "Epoch 76/100\n",
            "20/20 [==============================] - 0s 6ms/step - loss: 6.1246e-05 - accuracy: 1.0000 - val_loss: 2.8394 - val_accuracy: 0.7143\n",
            "Epoch 77/100\n",
            "20/20 [==============================] - 0s 7ms/step - loss: 5.9923e-05 - accuracy: 1.0000 - val_loss: 2.8472 - val_accuracy: 0.7143\n",
            "Epoch 78/100\n",
            "20/20 [==============================] - 0s 7ms/step - loss: 5.9601e-05 - accuracy: 1.0000 - val_loss: 2.8587 - val_accuracy: 0.7143\n",
            "Epoch 79/100\n",
            "20/20 [==============================] - 0s 7ms/step - loss: 5.7130e-05 - accuracy: 1.0000 - val_loss: 2.8678 - val_accuracy: 0.7143\n",
            "Epoch 80/100\n",
            "20/20 [==============================] - 0s 9ms/step - loss: 5.4361e-05 - accuracy: 1.0000 - val_loss: 2.8776 - val_accuracy: 0.7143\n",
            "Epoch 81/100\n",
            "20/20 [==============================] - 0s 8ms/step - loss: 5.5479e-05 - accuracy: 1.0000 - val_loss: 2.8863 - val_accuracy: 0.7143\n",
            "Epoch 82/100\n",
            "20/20 [==============================] - 0s 8ms/step - loss: 5.2095e-05 - accuracy: 1.0000 - val_loss: 2.8949 - val_accuracy: 0.7143\n",
            "Epoch 83/100\n",
            "20/20 [==============================] - 0s 6ms/step - loss: 5.1117e-05 - accuracy: 1.0000 - val_loss: 2.9046 - val_accuracy: 0.7143\n",
            "Epoch 84/100\n",
            "20/20 [==============================] - 0s 7ms/step - loss: 5.0304e-05 - accuracy: 1.0000 - val_loss: 2.9131 - val_accuracy: 0.7143\n",
            "Epoch 85/100\n",
            "20/20 [==============================] - 0s 7ms/step - loss: 5.0097e-05 - accuracy: 1.0000 - val_loss: 2.9211 - val_accuracy: 0.7143\n",
            "Epoch 86/100\n",
            "20/20 [==============================] - 0s 9ms/step - loss: 4.7791e-05 - accuracy: 1.0000 - val_loss: 2.9316 - val_accuracy: 0.7143\n",
            "Epoch 87/100\n",
            "20/20 [==============================] - 0s 11ms/step - loss: 4.5449e-05 - accuracy: 1.0000 - val_loss: 2.9416 - val_accuracy: 0.7143\n",
            "Epoch 88/100\n",
            "20/20 [==============================] - 0s 7ms/step - loss: 4.4052e-05 - accuracy: 1.0000 - val_loss: 2.9540 - val_accuracy: 0.7143\n",
            "Epoch 89/100\n",
            "20/20 [==============================] - 0s 7ms/step - loss: 4.2490e-05 - accuracy: 1.0000 - val_loss: 2.9642 - val_accuracy: 0.7143\n",
            "Epoch 90/100\n",
            "20/20 [==============================] - 0s 5ms/step - loss: 4.1447e-05 - accuracy: 1.0000 - val_loss: 2.9732 - val_accuracy: 0.7143\n",
            "Epoch 91/100\n",
            "20/20 [==============================] - 0s 5ms/step - loss: 3.9903e-05 - accuracy: 1.0000 - val_loss: 2.9830 - val_accuracy: 0.7143\n",
            "Epoch 92/100\n",
            "20/20 [==============================] - 0s 4ms/step - loss: 3.9348e-05 - accuracy: 1.0000 - val_loss: 2.9925 - val_accuracy: 0.7143\n",
            "Epoch 93/100\n",
            "20/20 [==============================] - 0s 5ms/step - loss: 3.7584e-05 - accuracy: 1.0000 - val_loss: 2.9984 - val_accuracy: 0.7078\n",
            "Epoch 94/100\n",
            "20/20 [==============================] - 0s 6ms/step - loss: 3.6629e-05 - accuracy: 1.0000 - val_loss: 3.0074 - val_accuracy: 0.7143\n",
            "Epoch 95/100\n",
            "20/20 [==============================] - 0s 4ms/step - loss: 3.5434e-05 - accuracy: 1.0000 - val_loss: 3.0178 - val_accuracy: 0.7143\n",
            "Epoch 96/100\n",
            "20/20 [==============================] - 0s 4ms/step - loss: 3.4571e-05 - accuracy: 1.0000 - val_loss: 3.0262 - val_accuracy: 0.7143\n",
            "Epoch 97/100\n",
            "20/20 [==============================] - 0s 4ms/step - loss: 3.4041e-05 - accuracy: 1.0000 - val_loss: 3.0342 - val_accuracy: 0.7078\n",
            "Epoch 98/100\n",
            "20/20 [==============================] - 0s 4ms/step - loss: 3.3448e-05 - accuracy: 1.0000 - val_loss: 3.0432 - val_accuracy: 0.7078\n",
            "Epoch 99/100\n",
            "20/20 [==============================] - 0s 4ms/step - loss: 3.1821e-05 - accuracy: 1.0000 - val_loss: 3.0514 - val_accuracy: 0.7078\n",
            "Epoch 100/100\n",
            "20/20 [==============================] - 0s 4ms/step - loss: 3.1507e-05 - accuracy: 1.0000 - val_loss: 3.0603 - val_accuracy: 0.7143\n"
          ]
        },
        {
          "output_type": "execute_result",
          "data": {
            "text/plain": [
              "<keras.src.callbacks.History at 0x7df7ee7b21a0>"
            ]
          },
          "metadata": {},
          "execution_count": 73
        }
      ]
    },
    {
      "cell_type": "code",
      "source": [
        "def build_model(hp):\n",
        "  model = Sequential()\n",
        "\n",
        "  hp_units = hp.Int('units', min_value=8, max_value=128 )\n",
        "  # removed the trailing comma\n",
        "  activation=hp.Choice('activation', values=['relu', 'tanh','sigmoid'])\n",
        "  input_dim=8\n",
        "  model.add(Dense(units=hp_units, activation=activation, input_dim=input_dim))\n",
        "\n",
        "  for i in range(hp.Int('num_layers', 1, 5)):\n",
        "    model.add(Dense(units=hp_units, activation=activation))\n",
        "\n",
        "  # Added the missing output layer\n",
        "  model.add(Dense(1, activation='sigmoid'))\n",
        "\n",
        "  hp_optimizer = hp.Choice('optimizer', values=['Adam', 'SGD', 'RMSprop', 'Adadelta'])\n",
        "\n",
        "  # Added the compile and return statements\n",
        "  model.compile(optimizer=hp_optimizer,\n",
        "                loss='binary_crossentropy',\n",
        "                metrics=['accuracy'])\n",
        "\n",
        "  return model"
      ],
      "metadata": {
        "id": "zAYmofoF6xFA"
      },
      "execution_count": 81,
      "outputs": []
    },
    {
      "cell_type": "code",
      "source": [
        "tuner = kt.RandomSearch(build_model,\n",
        "                        objective='val_accuracy',\n",
        "                        max_trials=5,\n",
        "                        directory='keras-deep-learning',\n",
        "                        project_name='all_at_once'\n",
        ")\n",
        "\n",
        "tuner.search(X_train, y_train, epochs=5, validation_data=(X_test, y_test))\n",
        "\n",
        "tuner.results_summary()\n"
      ],
      "metadata": {
        "colab": {
          "base_uri": "https://localhost:8080/"
        },
        "id": "YfzY-S6-BGuB",
        "outputId": "a39104c0-fbfb-4b59-d0b0-dd0fbc088862"
      },
      "execution_count": 82,
      "outputs": [
        {
          "output_type": "stream",
          "name": "stdout",
          "text": [
            "Trial 5 Complete [00h 00m 02s]\n",
            "val_accuracy: 0.8116883039474487\n",
            "\n",
            "Best val_accuracy So Far: 0.8116883039474487\n",
            "Total elapsed time: 00h 00m 12s\n",
            "Results summary\n",
            "Results in keras-deep-learning/all_at_once\n",
            "Showing 10 best trials\n",
            "Objective(name=\"val_accuracy\", direction=\"max\")\n",
            "\n",
            "Trial 4 summary\n",
            "Hyperparameters:\n",
            "units: 61\n",
            "activation: tanh\n",
            "num_layers: 1\n",
            "optimizer: Adam\n",
            "Score: 0.8116883039474487\n",
            "\n",
            "Trial 1 summary\n",
            "Hyperparameters:\n",
            "units: 61\n",
            "activation: tanh\n",
            "num_layers: 4\n",
            "optimizer: RMSprop\n",
            "Score: 0.798701286315918\n",
            "\n",
            "Trial 2 summary\n",
            "Hyperparameters:\n",
            "units: 21\n",
            "activation: tanh\n",
            "num_layers: 5\n",
            "optimizer: SGD\n",
            "Score: 0.7662337422370911\n",
            "\n",
            "Trial 3 summary\n",
            "Hyperparameters:\n",
            "units: 43\n",
            "activation: relu\n",
            "num_layers: 3\n",
            "optimizer: SGD\n",
            "Score: 0.649350643157959\n",
            "\n",
            "Trial 0 summary\n",
            "Hyperparameters:\n",
            "units: 114\n",
            "activation: relu\n",
            "num_layers: 1\n",
            "optimizer: Adadelta\n",
            "Score: 0.6428571343421936\n"
          ]
        }
      ]
    },
    {
      "cell_type": "code",
      "source": [
        "model = tuner.get_best_models(num_models=1)[0]"
      ],
      "metadata": {
        "id": "Iisn6uFCBWD-"
      },
      "execution_count": 84,
      "outputs": []
    },
    {
      "cell_type": "code",
      "source": [
        "model.fit(X_train, y_train, epochs=100, validation_data=(X_test, y_test))"
      ],
      "metadata": {
        "colab": {
          "base_uri": "https://localhost:8080/"
        },
        "id": "Uu0cgXNuCodq",
        "outputId": "2c988c61-8b77-4e53-a5fb-480b09dc1630"
      },
      "execution_count": 85,
      "outputs": [
        {
          "output_type": "stream",
          "name": "stdout",
          "text": [
            "Epoch 1/100\n",
            "20/20 [==============================] - 3s 40ms/step - loss: 0.4725 - accuracy: 0.7720 - val_loss: 0.4653 - val_accuracy: 0.7987\n",
            "Epoch 2/100\n",
            "20/20 [==============================] - 0s 14ms/step - loss: 0.4657 - accuracy: 0.7785 - val_loss: 0.4550 - val_accuracy: 0.8052\n",
            "Epoch 3/100\n",
            "20/20 [==============================] - 0s 13ms/step - loss: 0.4712 - accuracy: 0.7655 - val_loss: 0.4582 - val_accuracy: 0.7922\n",
            "Epoch 4/100\n",
            "20/20 [==============================] - 0s 17ms/step - loss: 0.4623 - accuracy: 0.7752 - val_loss: 0.4597 - val_accuracy: 0.7792\n",
            "Epoch 5/100\n",
            "20/20 [==============================] - 0s 7ms/step - loss: 0.4655 - accuracy: 0.7752 - val_loss: 0.4564 - val_accuracy: 0.7792\n",
            "Epoch 6/100\n",
            "20/20 [==============================] - 0s 14ms/step - loss: 0.4705 - accuracy: 0.7736 - val_loss: 0.4575 - val_accuracy: 0.7792\n",
            "Epoch 7/100\n",
            "20/20 [==============================] - 0s 11ms/step - loss: 0.4630 - accuracy: 0.7687 - val_loss: 0.4634 - val_accuracy: 0.7792\n",
            "Epoch 8/100\n",
            "20/20 [==============================] - 0s 14ms/step - loss: 0.4616 - accuracy: 0.7834 - val_loss: 0.4553 - val_accuracy: 0.7987\n",
            "Epoch 9/100\n",
            "20/20 [==============================] - 0s 18ms/step - loss: 0.4597 - accuracy: 0.7769 - val_loss: 0.4585 - val_accuracy: 0.7857\n",
            "Epoch 10/100\n",
            "20/20 [==============================] - 0s 16ms/step - loss: 0.4578 - accuracy: 0.7736 - val_loss: 0.4557 - val_accuracy: 0.7792\n",
            "Epoch 11/100\n",
            "20/20 [==============================] - 0s 9ms/step - loss: 0.4559 - accuracy: 0.7785 - val_loss: 0.4610 - val_accuracy: 0.7922\n",
            "Epoch 12/100\n",
            "20/20 [==============================] - 0s 16ms/step - loss: 0.4557 - accuracy: 0.7785 - val_loss: 0.4600 - val_accuracy: 0.7857\n",
            "Epoch 13/100\n",
            "20/20 [==============================] - 0s 15ms/step - loss: 0.4558 - accuracy: 0.7736 - val_loss: 0.4580 - val_accuracy: 0.7857\n",
            "Epoch 14/100\n",
            "20/20 [==============================] - 0s 12ms/step - loss: 0.4585 - accuracy: 0.7785 - val_loss: 0.4511 - val_accuracy: 0.7922\n",
            "Epoch 15/100\n",
            "20/20 [==============================] - 0s 21ms/step - loss: 0.4543 - accuracy: 0.7866 - val_loss: 0.4609 - val_accuracy: 0.7857\n",
            "Epoch 16/100\n",
            "20/20 [==============================] - 0s 13ms/step - loss: 0.4540 - accuracy: 0.7834 - val_loss: 0.4592 - val_accuracy: 0.7922\n",
            "Epoch 17/100\n",
            "20/20 [==============================] - 0s 10ms/step - loss: 0.4532 - accuracy: 0.7736 - val_loss: 0.4509 - val_accuracy: 0.7987\n",
            "Epoch 18/100\n",
            "20/20 [==============================] - 0s 8ms/step - loss: 0.4527 - accuracy: 0.7752 - val_loss: 0.4510 - val_accuracy: 0.7857\n",
            "Epoch 19/100\n",
            "20/20 [==============================] - 0s 13ms/step - loss: 0.4486 - accuracy: 0.7850 - val_loss: 0.4579 - val_accuracy: 0.7857\n",
            "Epoch 20/100\n",
            "20/20 [==============================] - 0s 7ms/step - loss: 0.4499 - accuracy: 0.7883 - val_loss: 0.4518 - val_accuracy: 0.7857\n",
            "Epoch 21/100\n",
            "20/20 [==============================] - 0s 11ms/step - loss: 0.4502 - accuracy: 0.7850 - val_loss: 0.4565 - val_accuracy: 0.7922\n",
            "Epoch 22/100\n",
            "20/20 [==============================] - 0s 14ms/step - loss: 0.4482 - accuracy: 0.7850 - val_loss: 0.4522 - val_accuracy: 0.7857\n",
            "Epoch 23/100\n",
            "20/20 [==============================] - 0s 9ms/step - loss: 0.4470 - accuracy: 0.7850 - val_loss: 0.4570 - val_accuracy: 0.7922\n",
            "Epoch 24/100\n",
            "20/20 [==============================] - 0s 9ms/step - loss: 0.4460 - accuracy: 0.7834 - val_loss: 0.4614 - val_accuracy: 0.7922\n",
            "Epoch 25/100\n",
            "20/20 [==============================] - 0s 11ms/step - loss: 0.4489 - accuracy: 0.7818 - val_loss: 0.4559 - val_accuracy: 0.7922\n",
            "Epoch 26/100\n",
            "20/20 [==============================] - 0s 8ms/step - loss: 0.4447 - accuracy: 0.7769 - val_loss: 0.4516 - val_accuracy: 0.7922\n",
            "Epoch 27/100\n",
            "20/20 [==============================] - 0s 8ms/step - loss: 0.4453 - accuracy: 0.7866 - val_loss: 0.4505 - val_accuracy: 0.8052\n",
            "Epoch 28/100\n",
            "20/20 [==============================] - 0s 7ms/step - loss: 0.4435 - accuracy: 0.7915 - val_loss: 0.4448 - val_accuracy: 0.8052\n",
            "Epoch 29/100\n",
            "20/20 [==============================] - 0s 7ms/step - loss: 0.4421 - accuracy: 0.7899 - val_loss: 0.4526 - val_accuracy: 0.7792\n",
            "Epoch 30/100\n",
            "20/20 [==============================] - 0s 10ms/step - loss: 0.4402 - accuracy: 0.7785 - val_loss: 0.4512 - val_accuracy: 0.8052\n",
            "Epoch 31/100\n",
            "20/20 [==============================] - 0s 8ms/step - loss: 0.4420 - accuracy: 0.7818 - val_loss: 0.4574 - val_accuracy: 0.7987\n",
            "Epoch 32/100\n",
            "20/20 [==============================] - 0s 6ms/step - loss: 0.4418 - accuracy: 0.7932 - val_loss: 0.4447 - val_accuracy: 0.7922\n",
            "Epoch 33/100\n",
            "20/20 [==============================] - 0s 8ms/step - loss: 0.4392 - accuracy: 0.7883 - val_loss: 0.4493 - val_accuracy: 0.7857\n",
            "Epoch 34/100\n",
            "20/20 [==============================] - 0s 9ms/step - loss: 0.4388 - accuracy: 0.7932 - val_loss: 0.4562 - val_accuracy: 0.8052\n",
            "Epoch 35/100\n",
            "20/20 [==============================] - 0s 8ms/step - loss: 0.4385 - accuracy: 0.7769 - val_loss: 0.4498 - val_accuracy: 0.7922\n",
            "Epoch 36/100\n",
            "20/20 [==============================] - 0s 11ms/step - loss: 0.4390 - accuracy: 0.7801 - val_loss: 0.4481 - val_accuracy: 0.7922\n",
            "Epoch 37/100\n",
            "20/20 [==============================] - 0s 7ms/step - loss: 0.4325 - accuracy: 0.7948 - val_loss: 0.4472 - val_accuracy: 0.7857\n",
            "Epoch 38/100\n",
            "20/20 [==============================] - 0s 7ms/step - loss: 0.4352 - accuracy: 0.7850 - val_loss: 0.4527 - val_accuracy: 0.7792\n",
            "Epoch 39/100\n",
            "20/20 [==============================] - 0s 6ms/step - loss: 0.4320 - accuracy: 0.7932 - val_loss: 0.4480 - val_accuracy: 0.7922\n",
            "Epoch 40/100\n",
            "20/20 [==============================] - 0s 7ms/step - loss: 0.4323 - accuracy: 0.7850 - val_loss: 0.4514 - val_accuracy: 0.7922\n",
            "Epoch 41/100\n",
            "20/20 [==============================] - 0s 18ms/step - loss: 0.4315 - accuracy: 0.7915 - val_loss: 0.4470 - val_accuracy: 0.7792\n",
            "Epoch 42/100\n",
            "20/20 [==============================] - 0s 10ms/step - loss: 0.4328 - accuracy: 0.7964 - val_loss: 0.4511 - val_accuracy: 0.7987\n",
            "Epoch 43/100\n",
            "20/20 [==============================] - 0s 6ms/step - loss: 0.4331 - accuracy: 0.8046 - val_loss: 0.4473 - val_accuracy: 0.7987\n",
            "Epoch 44/100\n",
            "20/20 [==============================] - 0s 5ms/step - loss: 0.4284 - accuracy: 0.7866 - val_loss: 0.4411 - val_accuracy: 0.7987\n",
            "Epoch 45/100\n",
            "20/20 [==============================] - 0s 8ms/step - loss: 0.4267 - accuracy: 0.7932 - val_loss: 0.4430 - val_accuracy: 0.7987\n",
            "Epoch 46/100\n",
            "20/20 [==============================] - 0s 9ms/step - loss: 0.4263 - accuracy: 0.7980 - val_loss: 0.4385 - val_accuracy: 0.8052\n",
            "Epoch 47/100\n",
            "20/20 [==============================] - 0s 7ms/step - loss: 0.4285 - accuracy: 0.7948 - val_loss: 0.4406 - val_accuracy: 0.7987\n",
            "Epoch 48/100\n",
            "20/20 [==============================] - 0s 10ms/step - loss: 0.4288 - accuracy: 0.7899 - val_loss: 0.4486 - val_accuracy: 0.7662\n",
            "Epoch 49/100\n",
            "20/20 [==============================] - 0s 8ms/step - loss: 0.4264 - accuracy: 0.7964 - val_loss: 0.4417 - val_accuracy: 0.7987\n",
            "Epoch 50/100\n",
            "20/20 [==============================] - 0s 8ms/step - loss: 0.4250 - accuracy: 0.7980 - val_loss: 0.4408 - val_accuracy: 0.7922\n",
            "Epoch 51/100\n",
            "20/20 [==============================] - 0s 9ms/step - loss: 0.4247 - accuracy: 0.7980 - val_loss: 0.4400 - val_accuracy: 0.7857\n",
            "Epoch 52/100\n",
            "20/20 [==============================] - 0s 10ms/step - loss: 0.4216 - accuracy: 0.8062 - val_loss: 0.4396 - val_accuracy: 0.7922\n",
            "Epoch 53/100\n",
            "20/20 [==============================] - 0s 17ms/step - loss: 0.4210 - accuracy: 0.7964 - val_loss: 0.4465 - val_accuracy: 0.7792\n",
            "Epoch 54/100\n",
            "20/20 [==============================] - 0s 6ms/step - loss: 0.4221 - accuracy: 0.8062 - val_loss: 0.4411 - val_accuracy: 0.7922\n",
            "Epoch 55/100\n",
            "20/20 [==============================] - 0s 11ms/step - loss: 0.4215 - accuracy: 0.7980 - val_loss: 0.4327 - val_accuracy: 0.8052\n",
            "Epoch 56/100\n",
            "20/20 [==============================] - 0s 7ms/step - loss: 0.4191 - accuracy: 0.8046 - val_loss: 0.4410 - val_accuracy: 0.7922\n",
            "Epoch 57/100\n",
            "20/20 [==============================] - 0s 12ms/step - loss: 0.4230 - accuracy: 0.8094 - val_loss: 0.4483 - val_accuracy: 0.7662\n",
            "Epoch 58/100\n",
            "20/20 [==============================] - 0s 7ms/step - loss: 0.4189 - accuracy: 0.8127 - val_loss: 0.4362 - val_accuracy: 0.8117\n",
            "Epoch 59/100\n",
            "20/20 [==============================] - 0s 7ms/step - loss: 0.4158 - accuracy: 0.8029 - val_loss: 0.4378 - val_accuracy: 0.7792\n",
            "Epoch 60/100\n",
            "20/20 [==============================] - 0s 6ms/step - loss: 0.4176 - accuracy: 0.7997 - val_loss: 0.4369 - val_accuracy: 0.7922\n",
            "Epoch 61/100\n",
            "20/20 [==============================] - 0s 7ms/step - loss: 0.4136 - accuracy: 0.8078 - val_loss: 0.4337 - val_accuracy: 0.7922\n",
            "Epoch 62/100\n",
            "20/20 [==============================] - 0s 19ms/step - loss: 0.4137 - accuracy: 0.8029 - val_loss: 0.4386 - val_accuracy: 0.7987\n",
            "Epoch 63/100\n",
            "20/20 [==============================] - 0s 10ms/step - loss: 0.4126 - accuracy: 0.8062 - val_loss: 0.4412 - val_accuracy: 0.7727\n",
            "Epoch 64/100\n",
            "20/20 [==============================] - 0s 6ms/step - loss: 0.4125 - accuracy: 0.8127 - val_loss: 0.4419 - val_accuracy: 0.7662\n",
            "Epoch 65/100\n",
            "20/20 [==============================] - 0s 6ms/step - loss: 0.4117 - accuracy: 0.8094 - val_loss: 0.4360 - val_accuracy: 0.7922\n",
            "Epoch 66/100\n",
            "20/20 [==============================] - 0s 6ms/step - loss: 0.4107 - accuracy: 0.8062 - val_loss: 0.4331 - val_accuracy: 0.7792\n",
            "Epoch 67/100\n",
            "20/20 [==============================] - 0s 15ms/step - loss: 0.4096 - accuracy: 0.8127 - val_loss: 0.4284 - val_accuracy: 0.7987\n",
            "Epoch 68/100\n",
            "20/20 [==============================] - 0s 12ms/step - loss: 0.4113 - accuracy: 0.8094 - val_loss: 0.4402 - val_accuracy: 0.7857\n",
            "Epoch 69/100\n",
            "20/20 [==============================] - 0s 10ms/step - loss: 0.4065 - accuracy: 0.8062 - val_loss: 0.4406 - val_accuracy: 0.7922\n",
            "Epoch 70/100\n",
            "20/20 [==============================] - 0s 11ms/step - loss: 0.4071 - accuracy: 0.8094 - val_loss: 0.4354 - val_accuracy: 0.7857\n",
            "Epoch 71/100\n",
            "20/20 [==============================] - 0s 10ms/step - loss: 0.4089 - accuracy: 0.8062 - val_loss: 0.4427 - val_accuracy: 0.7792\n",
            "Epoch 72/100\n",
            "20/20 [==============================] - 0s 19ms/step - loss: 0.4033 - accuracy: 0.8208 - val_loss: 0.4282 - val_accuracy: 0.7987\n",
            "Epoch 73/100\n",
            "20/20 [==============================] - 0s 14ms/step - loss: 0.4024 - accuracy: 0.8078 - val_loss: 0.4434 - val_accuracy: 0.7792\n",
            "Epoch 74/100\n",
            "20/20 [==============================] - 0s 12ms/step - loss: 0.4059 - accuracy: 0.8241 - val_loss: 0.4302 - val_accuracy: 0.7922\n",
            "Epoch 75/100\n",
            "20/20 [==============================] - 0s 12ms/step - loss: 0.4006 - accuracy: 0.8127 - val_loss: 0.4371 - val_accuracy: 0.8052\n",
            "Epoch 76/100\n",
            "20/20 [==============================] - 0s 19ms/step - loss: 0.4000 - accuracy: 0.8046 - val_loss: 0.4389 - val_accuracy: 0.7922\n",
            "Epoch 77/100\n",
            "20/20 [==============================] - 0s 16ms/step - loss: 0.3966 - accuracy: 0.8257 - val_loss: 0.4311 - val_accuracy: 0.7857\n",
            "Epoch 78/100\n",
            "20/20 [==============================] - 0s 15ms/step - loss: 0.3988 - accuracy: 0.8127 - val_loss: 0.4349 - val_accuracy: 0.8052\n",
            "Epoch 79/100\n",
            "20/20 [==============================] - 0s 23ms/step - loss: 0.3961 - accuracy: 0.8176 - val_loss: 0.4347 - val_accuracy: 0.7987\n",
            "Epoch 80/100\n",
            "20/20 [==============================] - 0s 21ms/step - loss: 0.3946 - accuracy: 0.8241 - val_loss: 0.4276 - val_accuracy: 0.8052\n",
            "Epoch 81/100\n",
            "20/20 [==============================] - 0s 21ms/step - loss: 0.3960 - accuracy: 0.8029 - val_loss: 0.4322 - val_accuracy: 0.7987\n",
            "Epoch 82/100\n",
            "20/20 [==============================] - 0s 18ms/step - loss: 0.3890 - accuracy: 0.8257 - val_loss: 0.4356 - val_accuracy: 0.7987\n",
            "Epoch 83/100\n",
            "20/20 [==============================] - 0s 23ms/step - loss: 0.3943 - accuracy: 0.8208 - val_loss: 0.4348 - val_accuracy: 0.7922\n",
            "Epoch 84/100\n",
            "20/20 [==============================] - 0s 10ms/step - loss: 0.3898 - accuracy: 0.8257 - val_loss: 0.4313 - val_accuracy: 0.7922\n",
            "Epoch 85/100\n",
            "20/20 [==============================] - 0s 10ms/step - loss: 0.3930 - accuracy: 0.8160 - val_loss: 0.4302 - val_accuracy: 0.8052\n",
            "Epoch 86/100\n",
            "20/20 [==============================] - 0s 6ms/step - loss: 0.3906 - accuracy: 0.8274 - val_loss: 0.4345 - val_accuracy: 0.8052\n",
            "Epoch 87/100\n",
            "20/20 [==============================] - 0s 7ms/step - loss: 0.3876 - accuracy: 0.8160 - val_loss: 0.4287 - val_accuracy: 0.8052\n",
            "Epoch 88/100\n",
            "20/20 [==============================] - 0s 9ms/step - loss: 0.3872 - accuracy: 0.8241 - val_loss: 0.4288 - val_accuracy: 0.7987\n",
            "Epoch 89/100\n",
            "20/20 [==============================] - 0s 6ms/step - loss: 0.3869 - accuracy: 0.8192 - val_loss: 0.4291 - val_accuracy: 0.8052\n",
            "Epoch 90/100\n",
            "20/20 [==============================] - 0s 9ms/step - loss: 0.3828 - accuracy: 0.8274 - val_loss: 0.4345 - val_accuracy: 0.8052\n",
            "Epoch 91/100\n",
            "20/20 [==============================] - 0s 7ms/step - loss: 0.3806 - accuracy: 0.8192 - val_loss: 0.4256 - val_accuracy: 0.8052\n",
            "Epoch 92/100\n",
            "20/20 [==============================] - 0s 8ms/step - loss: 0.3828 - accuracy: 0.8225 - val_loss: 0.4284 - val_accuracy: 0.8052\n",
            "Epoch 93/100\n",
            "20/20 [==============================] - 0s 10ms/step - loss: 0.3869 - accuracy: 0.8241 - val_loss: 0.4398 - val_accuracy: 0.7987\n",
            "Epoch 94/100\n",
            "20/20 [==============================] - 0s 13ms/step - loss: 0.3795 - accuracy: 0.8388 - val_loss: 0.4321 - val_accuracy: 0.7987\n",
            "Epoch 95/100\n",
            "20/20 [==============================] - 0s 8ms/step - loss: 0.3776 - accuracy: 0.8208 - val_loss: 0.4259 - val_accuracy: 0.7922\n",
            "Epoch 96/100\n",
            "20/20 [==============================] - 0s 10ms/step - loss: 0.3750 - accuracy: 0.8192 - val_loss: 0.4265 - val_accuracy: 0.8117\n",
            "Epoch 97/100\n",
            "20/20 [==============================] - 0s 13ms/step - loss: 0.3789 - accuracy: 0.8143 - val_loss: 0.4293 - val_accuracy: 0.8052\n",
            "Epoch 98/100\n",
            "20/20 [==============================] - 0s 14ms/step - loss: 0.3717 - accuracy: 0.8371 - val_loss: 0.4403 - val_accuracy: 0.8117\n",
            "Epoch 99/100\n",
            "20/20 [==============================] - 0s 8ms/step - loss: 0.3704 - accuracy: 0.8306 - val_loss: 0.4335 - val_accuracy: 0.8052\n",
            "Epoch 100/100\n",
            "20/20 [==============================] - 0s 8ms/step - loss: 0.3704 - accuracy: 0.8225 - val_loss: 0.4255 - val_accuracy: 0.8052\n"
          ]
        },
        {
          "output_type": "execute_result",
          "data": {
            "text/plain": [
              "<keras.src.callbacks.History at 0x7df7ee166110>"
            ]
          },
          "metadata": {},
          "execution_count": 85
        }
      ]
    }
  ]
}